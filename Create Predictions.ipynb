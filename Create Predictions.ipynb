{
 "cells": [
  {
   "cell_type": "code",
   "execution_count": 8,
   "id": "807ad4be",
   "metadata": {},
   "outputs": [
    {
     "name": "stderr",
     "output_type": "stream",
     "text": [
      "INFO:nixtlats.timegpt:Happy Forecasting! :), If you have questions or need support, please email ops@nixtla.io\n",
      "INFO:nixtlats.timegpt:Validating inputs...\n",
      "INFO:nixtlats.timegpt:Preprocessing dataframes...\n",
      "INFO:nixtlats.timegpt:Calling Forecast Endpoint...\n",
      "/tmp/ipykernel_3827/2823202495.py:55: FutureWarning: Setting an item of incompatible dtype is deprecated and will raise in a future error of pandas. Value '0.00013372898101773772' has dtype incompatible with int64, please explicitly cast to a compatible dtype first.\n",
      "  df.loc[i, 'slope'] = slope\n",
      "INFO:nixtlats.timegpt:Validating inputs...\n",
      "INFO:nixtlats.timegpt:Preprocessing dataframes...\n"
     ]
    },
    {
     "name": "stdout",
     "output_type": "stream",
     "text": [
      "1.266122817993164\n",
      "timestamp    2009-03-04\n",
      "value            1.2633\n",
      "slope          0.000134\n",
      "1pred           1.26371\n",
      "2pred          1.266123\n",
      "3pred          1.266805\n",
      "4pred           1.26579\n",
      "5pred          1.264545\n",
      "Name: 400, dtype: object\n",
      "row:  400\n"
     ]
    },
    {
     "name": "stderr",
     "output_type": "stream",
     "text": [
      "INFO:nixtlats.timegpt:Calling Forecast Endpoint...\n",
      "INFO:nixtlats.timegpt:Validating inputs...\n",
      "INFO:nixtlats.timegpt:Preprocessing dataframes...\n"
     ]
    },
    {
     "name": "stdout",
     "output_type": "stream",
     "text": [
      "1.2615180015563965\n",
      "timestamp    2009-03-05\n",
      "value           1.25445\n",
      "slope         -0.000395\n",
      "1pred          1.260109\n",
      "2pred          1.261518\n",
      "3pred          1.260598\n",
      "4pred          1.259694\n",
      "5pred          1.259047\n",
      "Name: 401, dtype: object\n",
      "row:  401\n"
     ]
    },
    {
     "name": "stderr",
     "output_type": "stream",
     "text": [
      "INFO:nixtlats.timegpt:Calling Forecast Endpoint...\n",
      "INFO:nixtlats.timegpt:Validating inputs...\n",
      "INFO:nixtlats.timegpt:Preprocessing dataframes...\n"
     ]
    },
    {
     "name": "stdout",
     "output_type": "stream",
     "text": [
      "1.263495922088623\n",
      "timestamp    2009-03-06\n",
      "value           1.26485\n",
      "slope         -0.001103\n",
      "1pred          1.265066\n",
      "2pred          1.263496\n",
      "3pred          1.262195\n",
      "4pred           1.26077\n",
      "5pred          1.260912\n",
      "Name: 402, dtype: object\n",
      "row:  402\n"
     ]
    },
    {
     "name": "stderr",
     "output_type": "stream",
     "text": [
      "INFO:nixtlats.timegpt:Calling Forecast Endpoint...\n",
      "INFO:nixtlats.timegpt:Validating inputs...\n",
      "INFO:nixtlats.timegpt:Preprocessing dataframes...\n"
     ]
    },
    {
     "name": "stdout",
     "output_type": "stream",
     "text": [
      "1.2617634534835815\n",
      "timestamp    2009-03-07\n",
      "value           1.26485\n",
      "slope         -0.000425\n",
      "1pred          1.263219\n",
      "2pred          1.261763\n",
      "3pred          1.260948\n",
      "4pred           1.26026\n",
      "5pred          1.261843\n",
      "Name: 403, dtype: object\n",
      "row:  403\n"
     ]
    },
    {
     "name": "stderr",
     "output_type": "stream",
     "text": [
      "INFO:nixtlats.timegpt:Calling Forecast Endpoint...\n",
      "INFO:nixtlats.timegpt:Validating inputs...\n",
      "INFO:nixtlats.timegpt:Preprocessing dataframes...\n"
     ]
    },
    {
     "name": "stdout",
     "output_type": "stream",
     "text": [
      "1.2644256353378296\n",
      "timestamp    2009-03-08\n",
      "value            1.2715\n",
      "slope          0.000575\n",
      "1pred          1.266293\n",
      "2pred          1.264426\n",
      "3pred          1.263917\n",
      "4pred          1.265552\n",
      "5pred          1.268603\n",
      "Name: 404, dtype: object\n",
      "row:  404\n"
     ]
    },
    {
     "name": "stderr",
     "output_type": "stream",
     "text": [
      "INFO:nixtlats.timegpt:Calling Forecast Endpoint...\n",
      "INFO:nixtlats.timegpt:Validating inputs...\n",
      "INFO:nixtlats.timegpt:Preprocessing dataframes...\n"
     ]
    },
    {
     "name": "stdout",
     "output_type": "stream",
     "text": [
      "1.2623440027236938\n",
      "timestamp    2009-03-09\n",
      "value            1.2618\n",
      "slope          0.001488\n",
      "1pred          1.261884\n",
      "2pred          1.262344\n",
      "3pred           1.26377\n",
      "4pred          1.266221\n",
      "5pred          1.267383\n",
      "Name: 405, dtype: object\n",
      "row:  405\n"
     ]
    },
    {
     "name": "stderr",
     "output_type": "stream",
     "text": [
      "INFO:nixtlats.timegpt:Calling Forecast Endpoint...\n",
      "INFO:nixtlats.timegpt:Validating inputs...\n",
      "INFO:nixtlats.timegpt:Preprocessing dataframes...\n"
     ]
    },
    {
     "name": "stdout",
     "output_type": "stream",
     "text": [
      "1.2675129175186157\n",
      "timestamp    2009-03-10\n",
      "value           1.27145\n",
      "slope           0.00078\n",
      "1pred          1.266772\n",
      "2pred          1.267513\n",
      "3pred              1.27\n",
      "4pred          1.270873\n",
      "5pred          1.268993\n",
      "Name: 406, dtype: object\n",
      "row:  406\n"
     ]
    },
    {
     "name": "stderr",
     "output_type": "stream",
     "text": [
      "INFO:nixtlats.timegpt:Calling Forecast Endpoint...\n",
      "INFO:nixtlats.timegpt:Validating inputs...\n",
      "INFO:nixtlats.timegpt:Preprocessing dataframes...\n"
     ]
    },
    {
     "name": "stdout",
     "output_type": "stream",
     "text": [
      "1.2760692834854126\n",
      "timestamp    2009-03-11\n",
      "value            1.2805\n",
      "slope         -0.000971\n",
      "1pred          1.274785\n",
      "2pred          1.276069\n",
      "3pred          1.275746\n",
      "4pred          1.273171\n",
      "5pred           1.27138\n",
      "Name: 407, dtype: object\n",
      "row:  407\n"
     ]
    },
    {
     "name": "stderr",
     "output_type": "stream",
     "text": [
      "INFO:nixtlats.timegpt:Calling Forecast Endpoint...\n",
      "INFO:nixtlats.timegpt:Validating inputs...\n",
      "INFO:nixtlats.timegpt:Preprocessing dataframes...\n"
     ]
    },
    {
     "name": "stdout",
     "output_type": "stream",
     "text": [
      "1.2844125032424927\n",
      "timestamp    2009-03-12\n",
      "value            1.2897\n",
      "slope         -0.002558\n",
      "1pred          1.285749\n",
      "2pred          1.284413\n",
      "3pred          1.281135\n",
      "4pred          1.278341\n",
      "5pred          1.275996\n",
      "Name: 408, dtype: object\n",
      "row:  408\n"
     ]
    },
    {
     "name": "stderr",
     "output_type": "stream",
     "text": [
      "INFO:nixtlats.timegpt:Calling Forecast Endpoint...\n",
      "INFO:nixtlats.timegpt:Validating inputs...\n",
      "INFO:nixtlats.timegpt:Preprocessing dataframes...\n"
     ]
    },
    {
     "name": "stdout",
     "output_type": "stream",
     "text": [
      "1.2851721048355103\n",
      "timestamp    2009-03-13\n",
      "value            1.2928\n",
      "slope         -0.002917\n",
      "1pred          1.289418\n",
      "2pred          1.285172\n",
      "3pred          1.282044\n",
      "4pred          1.278901\n",
      "5pred          1.277968\n",
      "Name: 409, dtype: object\n",
      "row:  409\n"
     ]
    },
    {
     "name": "stderr",
     "output_type": "stream",
     "text": [
      "INFO:nixtlats.timegpt:Calling Forecast Endpoint...\n",
      "INFO:nixtlats.timegpt:Validating inputs...\n",
      "INFO:nixtlats.timegpt:Preprocessing dataframes...\n"
     ]
    },
    {
     "name": "stdout",
     "output_type": "stream",
     "text": [
      "1.282950520515442\n",
      "timestamp    2009-03-14\n",
      "value            1.2928\n",
      "slope         -0.001397\n",
      "1pred          1.286957\n",
      "2pred          1.282951\n",
      "3pred          1.280341\n",
      "4pred           1.27877\n",
      "5pred          1.282064\n",
      "Name: 410, dtype: object\n",
      "row:  410\n"
     ]
    },
    {
     "name": "stderr",
     "output_type": "stream",
     "text": [
      "INFO:nixtlats.timegpt:Calling Forecast Endpoint...\n",
      "INFO:nixtlats.timegpt:Validating inputs...\n",
      "INFO:nixtlats.timegpt:Preprocessing dataframes...\n"
     ]
    },
    {
     "name": "stdout",
     "output_type": "stream",
     "text": [
      "1.2820730209350586\n",
      "timestamp    2009-03-15\n",
      "value           1.28805\n",
      "slope           0.00022\n",
      "1pred          1.285285\n",
      "2pred          1.282073\n",
      "3pred          1.281496\n",
      "4pred          1.283094\n",
      "5pred          1.285872\n",
      "Name: 411, dtype: object\n",
      "row:  411\n"
     ]
    },
    {
     "name": "stderr",
     "output_type": "stream",
     "text": [
      "INFO:nixtlats.timegpt:Calling Forecast Endpoint...\n",
      "INFO:nixtlats.timegpt:Validating inputs...\n",
      "INFO:nixtlats.timegpt:Preprocessing dataframes...\n"
     ]
    },
    {
     "name": "stdout",
     "output_type": "stream",
     "text": [
      "1.2934225797653198\n",
      "timestamp    2009-03-16\n",
      "value            1.2974\n",
      "slope          0.000626\n",
      "1pred          1.294256\n",
      "2pred          1.293423\n",
      "3pred          1.294879\n",
      "4pred           1.29677\n",
      "5pred          1.295711\n",
      "Name: 412, dtype: object\n",
      "row:  412\n"
     ]
    },
    {
     "name": "stderr",
     "output_type": "stream",
     "text": [
      "INFO:nixtlats.timegpt:Calling Forecast Endpoint...\n",
      "INFO:nixtlats.timegpt:Validating inputs...\n",
      "INFO:nixtlats.timegpt:Preprocessing dataframes...\n"
     ]
    },
    {
     "name": "stdout",
     "output_type": "stream",
     "text": [
      "1.3003907203674316\n",
      "timestamp    2009-03-17\n",
      "value            1.3032\n",
      "slope          0.000342\n",
      "1pred          1.300303\n",
      "2pred          1.300391\n",
      "3pred          1.304059\n",
      "4pred          1.303663\n",
      "5pred          1.300375\n",
      "Name: 413, dtype: object\n",
      "row:  413\n"
     ]
    },
    {
     "name": "stderr",
     "output_type": "stream",
     "text": [
      "INFO:nixtlats.timegpt:Calling Forecast Endpoint...\n",
      "INFO:nixtlats.timegpt:Validating inputs...\n",
      "INFO:nixtlats.timegpt:Preprocessing dataframes...\n"
     ]
    },
    {
     "name": "stdout",
     "output_type": "stream",
     "text": [
      "1.3284027576446533\n",
      "timestamp    2009-03-18\n",
      "value            1.3487\n",
      "slope         -0.006573\n",
      "1pred          1.333848\n",
      "2pred          1.328403\n",
      "3pred          1.321312\n",
      "4pred          1.312759\n",
      "5pred          1.308807\n",
      "Name: 414, dtype: object\n",
      "row:  414\n"
     ]
    },
    {
     "name": "stderr",
     "output_type": "stream",
     "text": [
      "INFO:nixtlats.timegpt:Calling Forecast Endpoint...\n",
      "INFO:nixtlats.timegpt:Validating inputs...\n",
      "INFO:nixtlats.timegpt:Preprocessing dataframes...\n"
     ]
    },
    {
     "name": "stdout",
     "output_type": "stream",
     "text": [
      "1.35223388671875\n",
      "timestamp    2009-03-19\n",
      "value           1.36595\n",
      "slope         -0.007481\n",
      "1pred          1.362095\n",
      "2pred          1.352234\n",
      "3pred          1.335398\n",
      "4pred          1.326445\n",
      "5pred          1.337586\n",
      "Name: 415, dtype: object\n",
      "row:  415\n"
     ]
    },
    {
     "name": "stderr",
     "output_type": "stream",
     "text": [
      "INFO:nixtlats.timegpt:Calling Forecast Endpoint...\n",
      "INFO:nixtlats.timegpt:Validating inputs...\n",
      "INFO:nixtlats.timegpt:Preprocessing dataframes...\n"
     ]
    },
    {
     "name": "stdout",
     "output_type": "stream",
     "text": [
      "1.3305155038833618\n",
      "timestamp    2009-03-20\n",
      "value           1.35795\n",
      "slope          0.003231\n",
      "1pred          1.349469\n",
      "2pred          1.330516\n",
      "3pred          1.325216\n",
      "4pred          1.343528\n",
      "5pred          1.359116\n",
      "Name: 416, dtype: object\n",
      "row:  416\n"
     ]
    },
    {
     "name": "stderr",
     "output_type": "stream",
     "text": [
      "INFO:nixtlats.timegpt:Calling Forecast Endpoint...\n",
      "INFO:nixtlats.timegpt:Validating inputs...\n",
      "INFO:nixtlats.timegpt:Preprocessing dataframes...\n"
     ]
    },
    {
     "name": "stdout",
     "output_type": "stream",
     "text": [
      "1.323610782623291\n",
      "timestamp    2009-03-21\n",
      "value           1.35795\n",
      "slope          0.011763\n",
      "1pred          1.336117\n",
      "2pred          1.323611\n",
      "3pred          1.348829\n",
      "4pred          1.370194\n",
      "5pred          1.371642\n",
      "Name: 417, dtype: object\n",
      "row:  417\n"
     ]
    },
    {
     "name": "stderr",
     "output_type": "stream",
     "text": [
      "INFO:nixtlats.timegpt:Calling Forecast Endpoint...\n",
      "INFO:nixtlats.timegpt:Validating inputs...\n",
      "INFO:nixtlats.timegpt:Preprocessing dataframes...\n"
     ]
    },
    {
     "name": "stdout",
     "output_type": "stream",
     "text": [
      "1.3515485525131226\n",
      "timestamp    2009-03-22\n",
      "value           1.36265\n",
      "slope          0.008959\n",
      "1pred           1.34369\n",
      "2pred          1.351549\n",
      "3pred          1.375322\n",
      "4pred          1.379272\n",
      "5pred          1.374622\n",
      "Name: 418, dtype: object\n",
      "row:  418\n"
     ]
    },
    {
     "name": "stderr",
     "output_type": "stream",
     "text": [
      "INFO:nixtlats.timegpt:Calling Forecast Endpoint...\n",
      "INFO:nixtlats.timegpt:Validating inputs...\n",
      "INFO:nixtlats.timegpt:Preprocessing dataframes...\n"
     ]
    },
    {
     "name": "stdout",
     "output_type": "stream",
     "text": [
      "1.370206594467163\n",
      "timestamp    2009-03-23\n",
      "value           1.36175\n",
      "slope          0.000765\n",
      "1pred          1.363997\n",
      "2pred          1.370207\n",
      "3pred          1.373013\n",
      "4pred          1.371804\n",
      "5pred          1.367023\n",
      "Name: 419, dtype: object\n",
      "row:  419\n"
     ]
    },
    {
     "name": "stderr",
     "output_type": "stream",
     "text": [
      "INFO:nixtlats.timegpt:Calling Forecast Endpoint...\n",
      "INFO:nixtlats.timegpt:Validating inputs...\n",
      "INFO:nixtlats.timegpt:Preprocessing dataframes...\n"
     ]
    },
    {
     "name": "stdout",
     "output_type": "stream",
     "text": [
      "1.358101725578308\n",
      "timestamp    2009-03-24\n",
      "value            1.3481\n",
      "slope         -0.002001\n",
      "1pred          1.357218\n",
      "2pred          1.358102\n",
      "3pred          1.354617\n",
      "4pred          1.353278\n",
      "5pred          1.349624\n",
      "Name: 420, dtype: object\n",
      "row:  420\n"
     ]
    },
    {
     "name": "stderr",
     "output_type": "stream",
     "text": [
      "INFO:nixtlats.timegpt:Calling Forecast Endpoint...\n",
      "INFO:nixtlats.timegpt:Validating inputs...\n",
      "INFO:nixtlats.timegpt:Preprocessing dataframes...\n"
     ]
    },
    {
     "name": "stdout",
     "output_type": "stream",
     "text": [
      "1.3568131923675537\n",
      "timestamp    2009-03-25\n",
      "value            1.3574\n",
      "slope         -0.003691\n",
      "1pred          1.360886\n",
      "2pred          1.356813\n",
      "3pred          1.353078\n",
      "4pred          1.350756\n",
      "5pred          1.345457\n",
      "Name: 421, dtype: object\n",
      "row:  421\n"
     ]
    },
    {
     "name": "stderr",
     "output_type": "stream",
     "text": [
      "INFO:nixtlats.timegpt:Calling Forecast Endpoint...\n",
      "INFO:nixtlats.timegpt:Validating inputs...\n",
      "INFO:nixtlats.timegpt:Preprocessing dataframes...\n"
     ]
    },
    {
     "name": "stdout",
     "output_type": "stream",
     "text": [
      "1.3488599061965942\n",
      "timestamp    2009-03-26\n",
      "value            1.3527\n",
      "slope         -0.003271\n",
      "1pred          1.352062\n",
      "2pred           1.34886\n",
      "3pred          1.345808\n",
      "4pred          1.341696\n",
      "5pred           1.33929\n",
      "Name: 422, dtype: object\n",
      "row:  422\n"
     ]
    },
    {
     "name": "stderr",
     "output_type": "stream",
     "text": [
      "INFO:nixtlats.timegpt:Calling Forecast Endpoint...\n",
      "INFO:nixtlats.timegpt:Validating inputs...\n",
      "INFO:nixtlats.timegpt:Preprocessing dataframes...\n"
     ]
    },
    {
     "name": "stdout",
     "output_type": "stream",
     "text": [
      "1.326267123222351\n",
      "timestamp    2009-03-27\n",
      "value            1.3287\n",
      "slope         -0.000812\n",
      "1pred          1.328565\n",
      "2pred          1.326267\n",
      "3pred          1.323257\n",
      "4pred          1.322546\n",
      "5pred          1.326367\n",
      "Name: 423, dtype: object\n",
      "row:  423\n"
     ]
    },
    {
     "name": "stderr",
     "output_type": "stream",
     "text": [
      "INFO:nixtlats.timegpt:Calling Forecast Endpoint...\n",
      "INFO:nixtlats.timegpt:Validating inputs...\n",
      "INFO:nixtlats.timegpt:Preprocessing dataframes...\n"
     ]
    },
    {
     "name": "stdout",
     "output_type": "stream",
     "text": [
      "1.3231945037841797\n",
      "timestamp    2009-03-28\n",
      "value            1.3287\n",
      "slope         -0.000007\n",
      "1pred          1.327202\n",
      "2pred          1.323195\n",
      "3pred          1.322314\n",
      "4pred          1.326709\n",
      "5pred          1.325412\n",
      "Name: 424, dtype: object\n",
      "row:  424\n"
     ]
    },
    {
     "name": "stderr",
     "output_type": "stream",
     "text": [
      "INFO:nixtlats.timegpt:Calling Forecast Endpoint...\n",
      "INFO:nixtlats.timegpt:Validating inputs...\n",
      "INFO:nixtlats.timegpt:Preprocessing dataframes...\n"
     ]
    },
    {
     "name": "stdout",
     "output_type": "stream",
     "text": [
      "1.32163405418396\n",
      "timestamp    2009-03-29\n",
      "value            1.3266\n",
      "slope           0.00023\n",
      "1pred          1.324092\n",
      "2pred          1.321634\n",
      "3pred          1.326986\n",
      "4pred           1.32686\n",
      "5pred          1.322629\n",
      "Name: 425, dtype: object\n",
      "row:  425\n"
     ]
    },
    {
     "name": "stderr",
     "output_type": "stream",
     "text": [
      "INFO:nixtlats.timegpt:Calling Forecast Endpoint...\n",
      "INFO:nixtlats.timegpt:Validating inputs...\n",
      "INFO:nixtlats.timegpt:Preprocessing dataframes...\n"
     ]
    },
    {
     "name": "stdout",
     "output_type": "stream",
     "text": [
      "1.3221988677978516\n",
      "timestamp    2009-03-30\n",
      "value           1.31875\n",
      "slope         -0.000743\n",
      "1pred          1.319204\n",
      "2pred          1.322199\n",
      "3pred           1.32256\n",
      "4pred          1.318401\n",
      "5pred          1.317387\n",
      "Name: 426, dtype: object\n",
      "row:  426\n"
     ]
    },
    {
     "name": "stderr",
     "output_type": "stream",
     "text": [
      "INFO:nixtlats.timegpt:Calling Forecast Endpoint...\n",
      "INFO:nixtlats.timegpt:Validating inputs...\n",
      "INFO:nixtlats.timegpt:Preprocessing dataframes...\n"
     ]
    },
    {
     "name": "stdout",
     "output_type": "stream",
     "text": [
      "1.327617883682251\n",
      "timestamp    2009-03-31\n",
      "value            1.3256\n",
      "slope         -0.001806\n",
      "1pred           1.32901\n",
      "2pred          1.327618\n",
      "3pred          1.324314\n",
      "4pred          1.322827\n",
      "5pred          1.322378\n",
      "Name: 427, dtype: object\n",
      "row:  427\n"
     ]
    },
    {
     "name": "stderr",
     "output_type": "stream",
     "text": [
      "INFO:nixtlats.timegpt:Calling Forecast Endpoint...\n",
      "INFO:nixtlats.timegpt:Validating inputs...\n",
      "INFO:nixtlats.timegpt:Preprocessing dataframes...\n"
     ]
    },
    {
     "name": "stdout",
     "output_type": "stream",
     "text": [
      "1.322716236114502\n",
      "timestamp    2009-04-01\n",
      "value           1.32435\n",
      "slope         -0.001659\n",
      "1pred          1.326451\n",
      "2pred          1.322716\n",
      "3pred          1.321591\n",
      "4pred          1.320858\n",
      "5pred          1.319085\n",
      "Name: 428, dtype: object\n",
      "row:  428\n"
     ]
    },
    {
     "name": "stderr",
     "output_type": "stream",
     "text": [
      "INFO:nixtlats.timegpt:Calling Forecast Endpoint...\n",
      "INFO:nixtlats.timegpt:Validating inputs...\n",
      "INFO:nixtlats.timegpt:Preprocessing dataframes...\n"
     ]
    },
    {
     "name": "stdout",
     "output_type": "stream",
     "text": [
      "1.3301701545715332\n",
      "timestamp    2009-04-02\n",
      "value            1.3472\n",
      "slope         -0.002435\n",
      "1pred          1.336166\n",
      "2pred           1.33017\n",
      "3pred          1.329295\n",
      "4pred          1.327212\n",
      "5pred           1.32547\n",
      "Name: 429, dtype: object\n",
      "row:  429\n"
     ]
    },
    {
     "name": "stderr",
     "output_type": "stream",
     "text": [
      "INFO:nixtlats.timegpt:Calling Forecast Endpoint...\n",
      "INFO:nixtlats.timegpt:Validating inputs...\n",
      "INFO:nixtlats.timegpt:Preprocessing dataframes...\n"
     ]
    },
    {
     "name": "stdout",
     "output_type": "stream",
     "text": [
      "1.3404924869537354\n",
      "timestamp    2009-04-03\n",
      "value           1.34835\n",
      "slope          -0.00014\n",
      "1pred          1.342972\n",
      "2pred          1.340492\n",
      "3pred          1.338888\n",
      "4pred           1.33955\n",
      "5pred          1.342744\n",
      "Name: 430, dtype: object\n",
      "row:  430\n"
     ]
    },
    {
     "name": "stderr",
     "output_type": "stream",
     "text": [
      "INFO:nixtlats.timegpt:Calling Forecast Endpoint...\n",
      "INFO:nixtlats.timegpt:Validating inputs...\n",
      "INFO:nixtlats.timegpt:Preprocessing dataframes...\n"
     ]
    },
    {
     "name": "stdout",
     "output_type": "stream",
     "text": [
      "1.3414463996887207\n",
      "timestamp    2009-04-04\n",
      "value           1.34835\n",
      "slope           0.00105\n",
      "1pred          1.345729\n",
      "2pred          1.341446\n",
      "3pred          1.340137\n",
      "4pred          1.346007\n",
      "5pred          1.348696\n",
      "Name: 431, dtype: object\n",
      "row:  431\n"
     ]
    },
    {
     "name": "stderr",
     "output_type": "stream",
     "text": [
      "INFO:nixtlats.timegpt:Calling Forecast Endpoint...\n",
      "INFO:nixtlats.timegpt:Validating inputs...\n",
      "INFO:nixtlats.timegpt:Preprocessing dataframes...\n"
     ]
    },
    {
     "name": "stdout",
     "output_type": "stream",
     "text": [
      "1.3490263223648071\n",
      "timestamp    2009-04-05\n",
      "value            1.3535\n",
      "slope          0.001464\n",
      "1pred          1.349627\n",
      "2pred          1.349026\n",
      "3pred          1.352619\n",
      "4pred          1.356112\n",
      "5pred          1.353405\n",
      "Name: 432, dtype: object\n",
      "row:  432\n"
     ]
    },
    {
     "name": "stderr",
     "output_type": "stream",
     "text": [
      "INFO:nixtlats.timegpt:Calling Forecast Endpoint...\n",
      "INFO:nixtlats.timegpt:Validating inputs...\n",
      "INFO:nixtlats.timegpt:Preprocessing dataframes...\n"
     ]
    },
    {
     "name": "stdout",
     "output_type": "stream",
     "text": [
      "1.33750319480896\n",
      "timestamp    2009-04-06\n",
      "value            1.3322\n",
      "slope          0.001261\n",
      "1pred          1.332286\n",
      "2pred          1.337503\n",
      "3pred          1.340569\n",
      "4pred           1.33904\n",
      "5pred          1.337824\n",
      "Name: 433, dtype: object\n",
      "row:  433\n"
     ]
    },
    {
     "name": "stderr",
     "output_type": "stream",
     "text": [
      "INFO:nixtlats.timegpt:Calling Forecast Endpoint...\n",
      "INFO:nixtlats.timegpt:Validating inputs...\n",
      "INFO:nixtlats.timegpt:Preprocessing dataframes...\n"
     ]
    },
    {
     "name": "stdout",
     "output_type": "stream",
     "text": [
      "1.3333159685134888\n",
      "timestamp    2009-04-07\n",
      "value            1.3268\n",
      "slope         -0.000136\n",
      "1pred          1.329498\n",
      "2pred          1.333316\n",
      "3pred          1.332371\n",
      "4pred          1.330932\n",
      "5pred          1.330013\n",
      "Name: 434, dtype: object\n",
      "row:  434\n"
     ]
    },
    {
     "name": "stderr",
     "output_type": "stream",
     "text": [
      "INFO:nixtlats.timegpt:Calling Forecast Endpoint...\n",
      "INFO:nixtlats.timegpt:Validating inputs...\n",
      "INFO:nixtlats.timegpt:Preprocessing dataframes...\n"
     ]
    },
    {
     "name": "stdout",
     "output_type": "stream",
     "text": [
      "1.3263142108917236\n",
      "timestamp    2009-04-08\n",
      "value            1.3251\n",
      "slope         -0.001276\n",
      "1pred          1.326753\n",
      "2pred          1.326314\n",
      "3pred          1.326018\n",
      "4pred          1.324973\n",
      "5pred          1.321041\n",
      "Name: 435, dtype: object\n",
      "row:  435\n"
     ]
    },
    {
     "name": "stderr",
     "output_type": "stream",
     "text": [
      "INFO:nixtlats.timegpt:Calling Forecast Endpoint...\n",
      "INFO:nixtlats.timegpt:Validating inputs...\n",
      "INFO:nixtlats.timegpt:Preprocessing dataframes...\n"
     ]
    },
    {
     "name": "stdout",
     "output_type": "stream",
     "text": [
      "1.3112459182739258\n",
      "timestamp    2009-04-09\n",
      "value            1.3121\n",
      "slope          -0.00106\n",
      "1pred          1.310836\n",
      "2pred          1.311246\n",
      "3pred          1.310328\n",
      "4pred          1.307821\n",
      "5pred          1.307247\n",
      "Name: 436, dtype: object\n",
      "row:  436\n"
     ]
    },
    {
     "name": "stderr",
     "output_type": "stream",
     "text": [
      "INFO:nixtlats.timegpt:Calling Forecast Endpoint...\n",
      "INFO:nixtlats.timegpt:Validating inputs...\n",
      "INFO:nixtlats.timegpt:Preprocessing dataframes...\n"
     ]
    },
    {
     "name": "stdout",
     "output_type": "stream",
     "text": [
      "1.3149135112762451\n",
      "timestamp    2009-04-10\n",
      "value           1.31845\n",
      "slope         -0.001046\n",
      "1pred          1.315456\n",
      "2pred          1.314914\n",
      "3pred          1.312535\n",
      "4pred          1.310736\n",
      "5pred          1.312316\n",
      "Name: 437, dtype: object\n",
      "row:  437\n"
     ]
    },
    {
     "name": "stderr",
     "output_type": "stream",
     "text": [
      "INFO:nixtlats.timegpt:Calling Forecast Endpoint...\n",
      "INFO:nixtlats.timegpt:Validating inputs...\n",
      "INFO:nixtlats.timegpt:Preprocessing dataframes...\n"
     ]
    },
    {
     "name": "stdout",
     "output_type": "stream",
     "text": [
      "1.316757321357727\n",
      "timestamp    2009-04-11\n",
      "value           1.31845\n",
      "slope          0.000194\n",
      "1pred          1.317856\n",
      "2pred          1.316757\n",
      "3pred           1.31568\n",
      "4pred          1.317251\n",
      "5pred          1.318577\n",
      "Name: 438, dtype: object\n",
      "row:  438\n"
     ]
    },
    {
     "name": "stderr",
     "output_type": "stream",
     "text": [
      "INFO:nixtlats.timegpt:Calling Forecast Endpoint...\n",
      "INFO:nixtlats.timegpt:Validating inputs...\n",
      "INFO:nixtlats.timegpt:Preprocessing dataframes...\n"
     ]
    },
    {
     "name": "stdout",
     "output_type": "stream",
     "text": [
      "1.3165467977523804\n",
      "timestamp    2009-04-12\n",
      "value           1.31535\n",
      "slope          0.001375\n",
      "1pred          1.315517\n",
      "2pred          1.316547\n",
      "3pred           1.31943\n",
      "4pred          1.320598\n",
      "5pred          1.320367\n",
      "Name: 439, dtype: object\n",
      "row:  439\n"
     ]
    },
    {
     "name": "stderr",
     "output_type": "stream",
     "text": [
      "INFO:nixtlats.timegpt:Calling Forecast Endpoint...\n",
      "INFO:nixtlats.timegpt:Validating inputs...\n",
      "INFO:nixtlats.timegpt:Preprocessing dataframes...\n"
     ]
    },
    {
     "name": "stdout",
     "output_type": "stream",
     "text": [
      "1.3294224739074707\n",
      "timestamp    2009-04-13\n",
      "value            1.3375\n",
      "slope          0.001015\n",
      "1pred          1.327242\n",
      "2pred          1.329422\n",
      "3pred          1.331291\n",
      "4pred          1.331254\n",
      "5pred            1.3314\n",
      "Name: 440, dtype: object\n",
      "row:  440\n"
     ]
    },
    {
     "name": "stderr",
     "output_type": "stream",
     "text": [
      "INFO:nixtlats.timegpt:Calling Forecast Endpoint...\n",
      "INFO:nixtlats.timegpt:Validating inputs...\n",
      "INFO:nixtlats.timegpt:Preprocessing dataframes...\n"
     ]
    },
    {
     "name": "stdout",
     "output_type": "stream",
     "text": [
      "1.32774817943573\n",
      "timestamp    2009-04-14\n",
      "value           1.32675\n",
      "slope          0.000416\n",
      "1pred            1.3271\n",
      "2pred          1.327748\n",
      "3pred          1.327291\n",
      "4pred          1.327873\n",
      "5pred          1.329117\n",
      "Name: 441, dtype: object\n",
      "row:  441\n"
     ]
    },
    {
     "name": "stderr",
     "output_type": "stream",
     "text": [
      "INFO:nixtlats.timegpt:Calling Forecast Endpoint...\n",
      "INFO:nixtlats.timegpt:Validating inputs...\n",
      "INFO:nixtlats.timegpt:Preprocessing dataframes...\n"
     ]
    },
    {
     "name": "stdout",
     "output_type": "stream",
     "text": [
      "1.3242719173431396\n",
      "timestamp    2009-04-15\n",
      "value           1.32215\n",
      "slope          0.000337\n",
      "1pred          1.323933\n",
      "2pred          1.324272\n",
      "3pred          1.324847\n",
      "4pred          1.325044\n",
      "5pred          1.325232\n",
      "Name: 442, dtype: object\n",
      "row:  442\n"
     ]
    },
    {
     "name": "stderr",
     "output_type": "stream",
     "text": [
      "INFO:nixtlats.timegpt:Calling Forecast Endpoint...\n",
      "INFO:nixtlats.timegpt:Validating inputs...\n",
      "INFO:nixtlats.timegpt:Preprocessing dataframes...\n"
     ]
    },
    {
     "name": "stdout",
     "output_type": "stream",
     "text": [
      "1.3230068683624268\n",
      "timestamp    2009-04-16\n",
      "value           1.31855\n",
      "slope          0.000504\n",
      "1pred          1.321387\n",
      "2pred          1.323007\n",
      "3pred          1.324086\n",
      "4pred          1.324006\n",
      "5pred          1.323408\n",
      "Name: 443, dtype: object\n",
      "row:  443\n"
     ]
    },
    {
     "name": "stderr",
     "output_type": "stream",
     "text": [
      "INFO:nixtlats.timegpt:Calling Forecast Endpoint...\n",
      "INFO:nixtlats.timegpt:Validating inputs...\n",
      "INFO:nixtlats.timegpt:Preprocessing dataframes...\n"
     ]
    },
    {
     "name": "stdout",
     "output_type": "stream",
     "text": [
      "1.3187289237976074\n",
      "timestamp    2009-04-17\n",
      "value            1.3043\n",
      "slope           0.00086\n",
      "1pred           1.31498\n",
      "2pred          1.318729\n",
      "3pred          1.319651\n",
      "4pred          1.319448\n",
      "5pred          1.318918\n",
      "Name: 444, dtype: object\n",
      "row:  444\n"
     ]
    },
    {
     "name": "stderr",
     "output_type": "stream",
     "text": [
      "INFO:nixtlats.timegpt:Calling Forecast Endpoint...\n",
      "INFO:nixtlats.timegpt:Validating inputs...\n",
      "INFO:nixtlats.timegpt:Preprocessing dataframes...\n"
     ]
    },
    {
     "name": "stdout",
     "output_type": "stream",
     "text": [
      "1.313607931137085\n",
      "timestamp    2009-04-18\n",
      "value            1.3043\n",
      "slope          0.000372\n",
      "1pred          1.311257\n",
      "2pred          1.313608\n",
      "3pred          1.313829\n",
      "4pred          1.313544\n",
      "5pred          1.313148\n",
      "Name: 445, dtype: object\n",
      "row:  445\n"
     ]
    },
    {
     "name": "stderr",
     "output_type": "stream",
     "text": [
      "INFO:nixtlats.timegpt:Calling Forecast Endpoint...\n",
      "INFO:nixtlats.timegpt:Validating inputs...\n",
      "INFO:nixtlats.timegpt:Preprocessing dataframes...\n"
     ]
    },
    {
     "name": "stdout",
     "output_type": "stream",
     "text": [
      "1.3108999729156494\n",
      "timestamp    2009-04-19\n",
      "value            1.3007\n",
      "slope          0.000266\n",
      "1pred          1.309262\n",
      "2pred            1.3109\n",
      "3pred          1.311723\n",
      "4pred          1.311579\n",
      "5pred          1.310253\n",
      "Name: 446, dtype: object\n",
      "row:  446\n"
     ]
    },
    {
     "name": "stderr",
     "output_type": "stream",
     "text": [
      "INFO:nixtlats.timegpt:Calling Forecast Endpoint...\n",
      "INFO:nixtlats.timegpt:Validating inputs...\n",
      "INFO:nixtlats.timegpt:Preprocessing dataframes...\n"
     ]
    },
    {
     "name": "stdout",
     "output_type": "stream",
     "text": [
      "1.3027241230010986\n",
      "timestamp    2009-04-20\n",
      "value            1.2904\n",
      "slope          0.000544\n",
      "1pred          1.300104\n",
      "2pred          1.302724\n",
      "3pred          1.303394\n",
      "4pred          1.303103\n",
      "5pred          1.302634\n",
      "Name: 447, dtype: object\n",
      "row:  447\n"
     ]
    },
    {
     "name": "stderr",
     "output_type": "stream",
     "text": [
      "INFO:nixtlats.timegpt:Calling Forecast Endpoint...\n",
      "INFO:nixtlats.timegpt:Validating inputs...\n",
      "INFO:nixtlats.timegpt:Preprocessing dataframes...\n"
     ]
    },
    {
     "name": "stdout",
     "output_type": "stream",
     "text": [
      "1.3015084266662598\n",
      "timestamp    2009-04-21\n",
      "value           1.29355\n",
      "slope         -0.000046\n",
      "1pred          1.300257\n",
      "2pred          1.301508\n",
      "3pred           1.30106\n",
      "4pred          1.301175\n",
      "5pred          1.300192\n",
      "Name: 448, dtype: object\n",
      "row:  448\n"
     ]
    },
    {
     "name": "stderr",
     "output_type": "stream",
     "text": [
      "INFO:nixtlats.timegpt:Calling Forecast Endpoint...\n",
      "INFO:nixtlats.timegpt:Validating inputs...\n",
      "INFO:nixtlats.timegpt:Preprocessing dataframes...\n"
     ]
    },
    {
     "name": "stdout",
     "output_type": "stream",
     "text": [
      "1.3026049137115479\n",
      "timestamp    2009-04-22\n",
      "value           1.30075\n",
      "slope         -0.000554\n",
      "1pred          1.303196\n",
      "2pred          1.302605\n",
      "3pred           1.30251\n",
      "4pred          1.301785\n",
      "5pred          1.300834\n",
      "Name: 449, dtype: object\n",
      "row:  449\n"
     ]
    },
    {
     "name": "stderr",
     "output_type": "stream",
     "text": [
      "INFO:nixtlats.timegpt:Calling Forecast Endpoint...\n",
      "INFO:nixtlats.timegpt:Validating inputs...\n",
      "INFO:nixtlats.timegpt:Preprocessing dataframes...\n"
     ]
    },
    {
     "name": "stdout",
     "output_type": "stream",
     "text": [
      "1.3099857568740845\n",
      "timestamp    2009-04-23\n",
      "value            1.3125\n",
      "slope         -0.000603\n",
      "1pred          1.310852\n",
      "2pred          1.309986\n",
      "3pred          1.309288\n",
      "4pred          1.308191\n",
      "5pred          1.308736\n",
      "Name: 450, dtype: object\n",
      "row:  450\n"
     ]
    },
    {
     "name": "stderr",
     "output_type": "stream",
     "text": [
      "INFO:nixtlats.timegpt:Calling Forecast Endpoint...\n",
      "INFO:nixtlats.timegpt:Validating inputs...\n",
      "INFO:nixtlats.timegpt:Preprocessing dataframes...\n"
     ]
    },
    {
     "name": "stdout",
     "output_type": "stream",
     "text": [
      "1.3173389434814453\n",
      "timestamp    2009-04-24\n",
      "value           1.32395\n",
      "slope         -0.001077\n",
      "1pred          1.321237\n",
      "2pred          1.317339\n",
      "3pred          1.314975\n",
      "4pred          1.314871\n",
      "5pred          1.317087\n",
      "Name: 451, dtype: object\n",
      "row:  451\n"
     ]
    },
    {
     "name": "stderr",
     "output_type": "stream",
     "text": [
      "INFO:nixtlats.timegpt:Calling Forecast Endpoint...\n",
      "INFO:nixtlats.timegpt:Validating inputs...\n",
      "INFO:nixtlats.timegpt:Preprocessing dataframes...\n"
     ]
    },
    {
     "name": "stdout",
     "output_type": "stream",
     "text": [
      "1.3180824518203735\n",
      "timestamp    2009-04-25\n",
      "value           1.32395\n",
      "slope          0.000105\n",
      "1pred          1.321916\n",
      "2pred          1.318082\n",
      "3pred          1.317539\n",
      "4pred          1.319347\n",
      "5pred          1.321809\n",
      "Name: 452, dtype: object\n",
      "row:  452\n"
     ]
    },
    {
     "name": "stderr",
     "output_type": "stream",
     "text": [
      "INFO:nixtlats.timegpt:Calling Forecast Endpoint...\n",
      "INFO:nixtlats.timegpt:Validating inputs...\n",
      "INFO:nixtlats.timegpt:Preprocessing dataframes...\n"
     ]
    },
    {
     "name": "stdout",
     "output_type": "stream",
     "text": [
      "1.3179597854614258\n",
      "timestamp    2009-04-26\n",
      "value           1.32185\n",
      "slope          0.000932\n",
      "1pred          1.318766\n",
      "2pred           1.31796\n",
      "3pred          1.319422\n",
      "4pred          1.321068\n",
      "5pred          1.321873\n",
      "Name: 453, dtype: object\n",
      "row:  453\n"
     ]
    },
    {
     "name": "stderr",
     "output_type": "stream",
     "text": [
      "INFO:nixtlats.timegpt:Calling Forecast Endpoint...\n",
      "INFO:nixtlats.timegpt:Validating inputs...\n",
      "INFO:nixtlats.timegpt:Preprocessing dataframes...\n"
     ]
    },
    {
     "name": "stdout",
     "output_type": "stream",
     "text": [
      "1.3123525381088257\n",
      "timestamp    2009-04-27\n",
      "value            1.3023\n",
      "slope          0.001997\n",
      "1pred          1.308087\n",
      "2pred          1.312353\n",
      "3pred          1.315437\n",
      "4pred           1.31659\n",
      "5pred          1.315955\n",
      "Name: 454, dtype: object\n",
      "row:  454\n"
     ]
    },
    {
     "name": "stderr",
     "output_type": "stream",
     "text": [
      "INFO:nixtlats.timegpt:Calling Forecast Endpoint...\n",
      "INFO:nixtlats.timegpt:Validating inputs...\n",
      "INFO:nixtlats.timegpt:Preprocessing dataframes...\n"
     ]
    },
    {
     "name": "stdout",
     "output_type": "stream",
     "text": [
      "1.3152316808700562\n",
      "timestamp    2009-04-28\n",
      "value            1.3131\n",
      "slope          0.000976\n",
      "1pred          1.312485\n",
      "2pred          1.315232\n",
      "3pred          1.317031\n",
      "4pred          1.317065\n",
      "5pred          1.316447\n",
      "Name: 455, dtype: object\n",
      "row:  455\n"
     ]
    },
    {
     "name": "stderr",
     "output_type": "stream",
     "text": [
      "INFO:nixtlats.timegpt:Calling Forecast Endpoint...\n",
      "INFO:nixtlats.timegpt:Validating inputs...\n",
      "INFO:nixtlats.timegpt:Preprocessing dataframes...\n"
     ]
    },
    {
     "name": "stdout",
     "output_type": "stream",
     "text": [
      "1.3242371082305908\n",
      "timestamp    2009-04-29\n",
      "value           1.32655\n",
      "slope         -0.000466\n",
      "1pred          1.324333\n",
      "2pred          1.324237\n",
      "3pred           1.32428\n",
      "4pred          1.323648\n",
      "5pred            1.3223\n",
      "Name: 456, dtype: object\n",
      "row:  456\n"
     ]
    },
    {
     "name": "stderr",
     "output_type": "stream",
     "text": [
      "INFO:nixtlats.timegpt:Calling Forecast Endpoint...\n",
      "INFO:nixtlats.timegpt:Validating inputs...\n",
      "INFO:nixtlats.timegpt:Preprocessing dataframes...\n"
     ]
    },
    {
     "name": "stdout",
     "output_type": "stream",
     "text": [
      "1.325615406036377\n",
      "timestamp    2009-04-30\n",
      "value            1.3244\n",
      "slope          0.000209\n",
      "1pred          1.324745\n",
      "2pred          1.325615\n",
      "3pred          1.325702\n",
      "4pred          1.325138\n",
      "5pred          1.326029\n",
      "Name: 457, dtype: object\n",
      "row:  457\n"
     ]
    },
    {
     "name": "stderr",
     "output_type": "stream",
     "text": [
      "INFO:nixtlats.timegpt:Calling Forecast Endpoint...\n",
      "INFO:nixtlats.timegpt:Validating inputs...\n",
      "INFO:nixtlats.timegpt:Preprocessing dataframes...\n"
     ]
    },
    {
     "name": "stdout",
     "output_type": "stream",
     "text": [
      "1.3289778232574463\n",
      "timestamp    2009-05-01\n",
      "value           1.32705\n",
      "slope          0.000103\n",
      "1pred          1.328416\n",
      "2pred          1.328978\n",
      "3pred          1.328154\n",
      "4pred          1.328698\n",
      "5pred          1.329069\n",
      "Name: 458, dtype: object\n",
      "row:  458\n"
     ]
    },
    {
     "name": "stderr",
     "output_type": "stream",
     "text": [
      "INFO:nixtlats.timegpt:Calling Forecast Endpoint...\n",
      "INFO:nixtlats.timegpt:Validating inputs...\n",
      "INFO:nixtlats.timegpt:Preprocessing dataframes...\n"
     ]
    },
    {
     "name": "stdout",
     "output_type": "stream",
     "text": [
      "1.3313462734222412\n",
      "timestamp    2009-05-02\n",
      "value           1.32705\n",
      "slope         -0.000543\n",
      "1pred          1.331155\n",
      "2pred          1.331346\n",
      "3pred          1.331193\n",
      "4pred          1.330575\n",
      "5pred          1.328827\n",
      "Name: 459, dtype: object\n",
      "row:  459\n"
     ]
    },
    {
     "name": "stderr",
     "output_type": "stream",
     "text": [
      "INFO:nixtlats.timegpt:Calling Forecast Endpoint...\n",
      "INFO:nixtlats.timegpt:Validating inputs...\n",
      "INFO:nixtlats.timegpt:Preprocessing dataframes...\n"
     ]
    },
    {
     "name": "stdout",
     "output_type": "stream",
     "text": [
      "1.3338807821273804\n",
      "timestamp    2009-05-03\n",
      "value           1.32873\n",
      "slope         -0.001393\n",
      "1pred          1.333756\n",
      "2pred          1.333881\n",
      "3pred          1.332223\n",
      "4pred          1.329278\n",
      "5pred          1.329094\n",
      "Name: 460, dtype: object\n",
      "row:  460\n"
     ]
    },
    {
     "name": "stderr",
     "output_type": "stream",
     "text": [
      "INFO:nixtlats.timegpt:Calling Forecast Endpoint...\n",
      "INFO:nixtlats.timegpt:Validating inputs...\n",
      "INFO:nixtlats.timegpt:Preprocessing dataframes...\n"
     ]
    },
    {
     "name": "stdout",
     "output_type": "stream",
     "text": [
      "1.3380498886108398\n",
      "timestamp    2009-05-04\n",
      "value            1.3415\n",
      "slope          -0.00132\n",
      "1pred          1.338805\n",
      "2pred           1.33805\n",
      "3pred          1.335769\n",
      "4pred          1.333621\n",
      "5pred           1.33442\n",
      "Name: 461, dtype: object\n",
      "row:  461\n"
     ]
    },
    {
     "name": "stderr",
     "output_type": "stream",
     "text": [
      "INFO:nixtlats.timegpt:Calling Forecast Endpoint...\n",
      "INFO:nixtlats.timegpt:Validating inputs...\n",
      "INFO:nixtlats.timegpt:Preprocessing dataframes...\n"
     ]
    },
    {
     "name": "stdout",
     "output_type": "stream",
     "text": [
      "1.331864595413208\n",
      "timestamp    2009-05-05\n",
      "value           1.33035\n",
      "slope          0.000106\n",
      "1pred          1.332806\n",
      "2pred          1.331865\n",
      "3pred          1.331379\n",
      "4pred           1.33201\n",
      "5pred          1.333261\n",
      "Name: 462, dtype: object\n",
      "row:  462\n"
     ]
    },
    {
     "name": "stderr",
     "output_type": "stream",
     "text": [
      "INFO:nixtlats.timegpt:Calling Forecast Endpoint...\n",
      "INFO:nixtlats.timegpt:Validating inputs...\n",
      "INFO:nixtlats.timegpt:Preprocessing dataframes...\n"
     ]
    },
    {
     "name": "stdout",
     "output_type": "stream",
     "text": [
      "1.3310985565185547\n",
      "timestamp    2009-05-06\n",
      "value              1.33\n",
      "slope           0.00047\n",
      "1pred          1.331058\n",
      "2pred          1.331099\n",
      "3pred          1.331373\n",
      "4pred          1.332279\n",
      "5pred          1.332819\n",
      "Name: 463, dtype: object\n",
      "row:  463\n"
     ]
    },
    {
     "name": "stderr",
     "output_type": "stream",
     "text": [
      "INFO:nixtlats.timegpt:Calling Forecast Endpoint...\n",
      "INFO:nixtlats.timegpt:Validating inputs...\n",
      "INFO:nixtlats.timegpt:Preprocessing dataframes...\n"
     ]
    },
    {
     "name": "stdout",
     "output_type": "stream",
     "text": [
      "1.3339177370071411\n",
      "timestamp    2009-05-07\n",
      "value            1.3386\n",
      "slope          0.001922\n",
      "1pred          1.334257\n",
      "2pred          1.333918\n",
      "3pred          1.338211\n",
      "4pred          1.341212\n",
      "5pred          1.340219\n",
      "Name: 464, dtype: object\n",
      "row:  464\n"
     ]
    },
    {
     "name": "stderr",
     "output_type": "stream",
     "text": [
      "INFO:nixtlats.timegpt:Calling Forecast Endpoint...\n",
      "INFO:nixtlats.timegpt:Validating inputs...\n",
      "INFO:nixtlats.timegpt:Preprocessing dataframes...\n"
     ]
    },
    {
     "name": "stdout",
     "output_type": "stream",
     "text": [
      "1.349013090133667\n",
      "timestamp    2009-05-08\n",
      "value            1.3639\n",
      "slope         -0.000379\n",
      "1pred          1.350403\n",
      "2pred          1.349013\n",
      "3pred          1.349361\n",
      "4pred          1.349284\n",
      "5pred          1.348372\n",
      "Name: 465, dtype: object\n",
      "row:  465\n"
     ]
    },
    {
     "name": "stderr",
     "output_type": "stream",
     "text": [
      "INFO:nixtlats.timegpt:Calling Forecast Endpoint...\n",
      "INFO:nixtlats.timegpt:Validating inputs...\n",
      "INFO:nixtlats.timegpt:Preprocessing dataframes...\n"
     ]
    },
    {
     "name": "stdout",
     "output_type": "stream",
     "text": [
      "1.3547546863555908\n",
      "timestamp    2009-05-09\n",
      "value            1.3639\n",
      "slope         -0.000661\n",
      "1pred           1.35816\n",
      "2pred          1.354755\n",
      "3pred          1.352282\n",
      "4pred          1.352953\n",
      "5pred          1.355756\n",
      "Name: 466, dtype: object\n",
      "row:  466\n"
     ]
    },
    {
     "name": "stderr",
     "output_type": "stream",
     "text": [
      "INFO:nixtlats.timegpt:Calling Forecast Endpoint...\n",
      "INFO:nixtlats.timegpt:Validating inputs...\n",
      "INFO:nixtlats.timegpt:Preprocessing dataframes...\n"
     ]
    },
    {
     "name": "stdout",
     "output_type": "stream",
     "text": [
      "1.3507342338562012\n",
      "timestamp    2009-05-10\n",
      "value           1.36315\n",
      "slope          0.001347\n",
      "1pred          1.359824\n",
      "2pred          1.350734\n",
      "3pred          1.347734\n",
      "4pred          1.355572\n",
      "5pred          1.364141\n",
      "Name: 467, dtype: object\n",
      "row:  467\n"
     ]
    },
    {
     "name": "stderr",
     "output_type": "stream",
     "text": [
      "INFO:nixtlats.timegpt:Calling Forecast Endpoint...\n",
      "INFO:nixtlats.timegpt:Validating inputs...\n",
      "INFO:nixtlats.timegpt:Preprocessing dataframes...\n"
     ]
    },
    {
     "name": "stdout",
     "output_type": "stream",
     "text": [
      "1.3488398790359497\n",
      "timestamp    2009-05-11\n",
      "value            1.3584\n",
      "slope          0.003981\n",
      "1pred          1.353545\n",
      "2pred           1.34884\n",
      "3pred          1.355457\n",
      "4pred          1.362866\n",
      "5pred          1.366435\n",
      "Name: 468, dtype: object\n",
      "row:  468\n"
     ]
    },
    {
     "name": "stderr",
     "output_type": "stream",
     "text": [
      "INFO:nixtlats.timegpt:Calling Forecast Endpoint...\n",
      "INFO:nixtlats.timegpt:Validating inputs...\n",
      "INFO:nixtlats.timegpt:Preprocessing dataframes...\n"
     ]
    },
    {
     "name": "stdout",
     "output_type": "stream",
     "text": [
      "1.3670912981033325\n",
      "timestamp    2009-05-12\n",
      "value           1.36765\n",
      "slope          0.002506\n",
      "1pred          1.365288\n",
      "2pred          1.367091\n",
      "3pred          1.373201\n",
      "4pred          1.375061\n",
      "5pred          1.373835\n",
      "Name: 469, dtype: object\n",
      "row:  469\n"
     ]
    },
    {
     "name": "stderr",
     "output_type": "stream",
     "text": [
      "INFO:nixtlats.timegpt:Calling Forecast Endpoint...\n",
      "INFO:nixtlats.timegpt:Validating inputs...\n",
      "INFO:nixtlats.timegpt:Preprocessing dataframes...\n"
     ]
    },
    {
     "name": "stdout",
     "output_type": "stream",
     "text": [
      "1.365299940109253\n",
      "timestamp    2009-05-13\n",
      "value             1.354\n",
      "slope          0.000921\n",
      "1pred          1.359878\n",
      "2pred            1.3653\n",
      "3pred          1.366721\n",
      "4pred          1.366443\n",
      "5pred          1.363913\n",
      "Name: 470, dtype: object\n",
      "row:  470\n"
     ]
    },
    {
     "name": "stderr",
     "output_type": "stream",
     "text": [
      "INFO:nixtlats.timegpt:Calling Forecast Endpoint...\n",
      "INFO:nixtlats.timegpt:Validating inputs...\n",
      "INFO:nixtlats.timegpt:Preprocessing dataframes...\n"
     ]
    },
    {
     "name": "stdout",
     "output_type": "stream",
     "text": [
      "1.3711206912994385\n",
      "timestamp    2009-05-14\n",
      "value            1.3631\n",
      "slope         -0.001727\n",
      "1pred          1.370459\n",
      "2pred          1.371121\n",
      "3pred          1.368256\n",
      "4pred          1.366246\n",
      "5pred          1.364261\n",
      "Name: 471, dtype: object\n",
      "row:  471\n"
     ]
    },
    {
     "name": "stderr",
     "output_type": "stream",
     "text": [
      "INFO:nixtlats.timegpt:Calling Forecast Endpoint...\n",
      "INFO:nixtlats.timegpt:Validating inputs...\n",
      "INFO:nixtlats.timegpt:Preprocessing dataframes...\n"
     ]
    },
    {
     "name": "stdout",
     "output_type": "stream",
     "text": [
      "1.3539958000183105\n",
      "timestamp    2009-05-15\n",
      "value           1.34945\n",
      "slope         -0.000821\n",
      "1pred          1.355178\n",
      "2pred          1.353996\n",
      "3pred          1.352513\n",
      "4pred          1.352293\n",
      "5pred          1.351926\n",
      "Name: 472, dtype: object\n",
      "row:  472\n"
     ]
    },
    {
     "name": "stderr",
     "output_type": "stream",
     "text": [
      "INFO:nixtlats.timegpt:Calling Forecast Endpoint...\n",
      "INFO:nixtlats.timegpt:Validating inputs...\n",
      "INFO:nixtlats.timegpt:Preprocessing dataframes...\n"
     ]
    },
    {
     "name": "stdout",
     "output_type": "stream",
     "text": [
      "1.3502188920974731\n",
      "timestamp    2009-05-16\n",
      "value           1.34945\n",
      "slope         -0.000163\n",
      "1pred          1.351754\n",
      "2pred          1.350219\n",
      "3pred          1.349998\n",
      "4pred          1.349628\n",
      "5pred          1.351235\n",
      "Name: 473, dtype: object\n",
      "row:  473\n"
     ]
    },
    {
     "name": "stderr",
     "output_type": "stream",
     "text": [
      "INFO:nixtlats.timegpt:Calling Forecast Endpoint...\n",
      "INFO:nixtlats.timegpt:Validating inputs...\n",
      "INFO:nixtlats.timegpt:Preprocessing dataframes...\n"
     ]
    },
    {
     "name": "stdout",
     "output_type": "stream",
     "text": [
      "1.3476349115371704\n",
      "timestamp    2009-05-17\n",
      "value            1.3453\n",
      "slope          0.000787\n",
      "1pred          1.347415\n",
      "2pred          1.347635\n",
      "3pred          1.347735\n",
      "4pred          1.349354\n",
      "5pred          1.350489\n",
      "Name: 474, dtype: object\n",
      "row:  474\n"
     ]
    },
    {
     "name": "stderr",
     "output_type": "stream",
     "text": [
      "INFO:nixtlats.timegpt:Calling Forecast Endpoint...\n",
      "INFO:nixtlats.timegpt:Validating inputs...\n",
      "INFO:nixtlats.timegpt:Preprocessing dataframes...\n"
     ]
    },
    {
     "name": "stdout",
     "output_type": "stream",
     "text": [
      "1.3529341220855713\n",
      "timestamp    2009-05-18\n",
      "value             1.355\n",
      "slope          0.000605\n",
      "1pred          1.353258\n",
      "2pred          1.352934\n",
      "3pred           1.35504\n",
      "4pred          1.355786\n",
      "5pred          1.354858\n",
      "Name: 475, dtype: object\n",
      "row:  475\n"
     ]
    },
    {
     "name": "stderr",
     "output_type": "stream",
     "text": [
      "INFO:nixtlats.timegpt:Calling Forecast Endpoint...\n",
      "INFO:nixtlats.timegpt:Validating inputs...\n",
      "INFO:nixtlats.timegpt:Preprocessing dataframes...\n"
     ]
    },
    {
     "name": "stdout",
     "output_type": "stream",
     "text": [
      "1.358520746231079\n",
      "timestamp    2009-05-19\n",
      "value            1.3643\n",
      "slope          0.000105\n",
      "1pred          1.358253\n",
      "2pred          1.358521\n",
      "3pred          1.360157\n",
      "4pred          1.359299\n",
      "5pred           1.35839\n",
      "Name: 476, dtype: object\n",
      "row:  476\n"
     ]
    },
    {
     "name": "stderr",
     "output_type": "stream",
     "text": [
      "INFO:nixtlats.timegpt:Calling Forecast Endpoint...\n",
      "INFO:nixtlats.timegpt:Validating inputs...\n",
      "INFO:nixtlats.timegpt:Preprocessing dataframes...\n"
     ]
    },
    {
     "name": "stdout",
     "output_type": "stream",
     "text": [
      "1.3678557872772217\n",
      "timestamp    2009-05-20\n",
      "value            1.3783\n",
      "slope         -0.001272\n",
      "1pred          1.370366\n",
      "2pred          1.367856\n",
      "3pred          1.366567\n",
      "4pred          1.365308\n",
      "5pred          1.365282\n",
      "Name: 477, dtype: object\n",
      "row:  477\n"
     ]
    },
    {
     "name": "stderr",
     "output_type": "stream",
     "text": [
      "INFO:nixtlats.timegpt:Calling Forecast Endpoint...\n",
      "INFO:nixtlats.timegpt:Validating inputs...\n",
      "INFO:nixtlats.timegpt:Preprocessing dataframes...\n"
     ]
    },
    {
     "name": "stdout",
     "output_type": "stream",
     "text": [
      "1.3800333738327026\n",
      "timestamp    2009-05-21\n",
      "value           1.39405\n",
      "slope         -0.001563\n",
      "1pred          1.386376\n",
      "2pred          1.380033\n",
      "3pred          1.377952\n",
      "4pred          1.378305\n",
      "5pred          1.379427\n",
      "Name: 478, dtype: object\n",
      "row:  478\n"
     ]
    },
    {
     "name": "stderr",
     "output_type": "stream",
     "text": [
      "INFO:nixtlats.timegpt:Calling Forecast Endpoint...\n",
      "INFO:nixtlats.timegpt:Validating inputs...\n",
      "INFO:nixtlats.timegpt:Preprocessing dataframes...\n"
     ]
    },
    {
     "name": "stdout",
     "output_type": "stream",
     "text": [
      "1.3894171714782715\n",
      "timestamp    2009-05-22\n",
      "value           1.39955\n",
      "slope          0.000052\n",
      "1pred          1.394826\n",
      "2pred          1.389417\n",
      "3pred          1.389856\n",
      "4pred          1.392866\n",
      "5pred           1.39336\n",
      "Name: 479, dtype: object\n",
      "row:  479\n"
     ]
    },
    {
     "name": "stderr",
     "output_type": "stream",
     "text": [
      "INFO:nixtlats.timegpt:Calling Forecast Endpoint...\n",
      "INFO:nixtlats.timegpt:Validating inputs...\n",
      "INFO:nixtlats.timegpt:Preprocessing dataframes...\n"
     ]
    },
    {
     "name": "stdout",
     "output_type": "stream",
     "text": [
      "1.396614670753479\n",
      "timestamp    2009-05-23\n",
      "value           1.39955\n",
      "slope          0.001812\n",
      "1pred          1.398595\n",
      "2pred          1.396615\n",
      "3pred          1.399359\n",
      "4pred           1.40267\n",
      "5pred          1.404628\n",
      "Name: 480, dtype: object\n",
      "row:  480\n"
     ]
    },
    {
     "name": "stderr",
     "output_type": "stream",
     "text": [
      "INFO:nixtlats.timegpt:Calling Forecast Endpoint...\n",
      "INFO:nixtlats.timegpt:Validating inputs...\n",
      "INFO:nixtlats.timegpt:Preprocessing dataframes...\n"
     ]
    },
    {
     "name": "stdout",
     "output_type": "stream",
     "text": [
      "1.405504584312439\n",
      "timestamp    2009-05-24\n",
      "value           1.40255\n",
      "slope          0.002168\n",
      "1pred          1.404959\n",
      "2pred          1.405505\n",
      "3pred          1.407878\n",
      "4pred          1.411705\n",
      "5pred          1.412696\n",
      "Name: 481, dtype: object\n",
      "row:  481\n"
     ]
    },
    {
     "name": "stderr",
     "output_type": "stream",
     "text": [
      "INFO:nixtlats.timegpt:Calling Forecast Endpoint...\n",
      "INFO:nixtlats.timegpt:Validating inputs...\n",
      "INFO:nixtlats.timegpt:Preprocessing dataframes...\n"
     ]
    },
    {
     "name": "stdout",
     "output_type": "stream",
     "text": [
      "1.4067163467407227\n",
      "timestamp    2009-05-25\n",
      "value            1.4009\n",
      "slope           0.00116\n",
      "1pred          1.405214\n",
      "2pred          1.406716\n",
      "3pred          1.409294\n",
      "4pred          1.410161\n",
      "5pred           1.40929\n",
      "Name: 482, dtype: object\n",
      "row:  482\n"
     ]
    },
    {
     "name": "stderr",
     "output_type": "stream",
     "text": [
      "INFO:nixtlats.timegpt:Calling Forecast Endpoint...\n",
      "INFO:nixtlats.timegpt:Validating inputs...\n",
      "INFO:nixtlats.timegpt:Preprocessing dataframes...\n"
     ]
    },
    {
     "name": "stdout",
     "output_type": "stream",
     "text": [
      "1.4028586149215698\n",
      "timestamp    2009-05-26\n",
      "value            1.3992\n",
      "slope         -0.000045\n",
      "1pred          1.400986\n",
      "2pred          1.402859\n",
      "3pred          1.403056\n",
      "4pred           1.40139\n",
      "5pred          1.401496\n",
      "Name: 483, dtype: object\n",
      "row:  483\n"
     ]
    },
    {
     "name": "stderr",
     "output_type": "stream",
     "text": [
      "INFO:nixtlats.timegpt:Calling Forecast Endpoint...\n",
      "INFO:nixtlats.timegpt:Validating inputs...\n",
      "INFO:nixtlats.timegpt:Preprocessing dataframes...\n"
     ]
    },
    {
     "name": "stdout",
     "output_type": "stream",
     "text": [
      "1.3865500688552856\n",
      "timestamp    2009-05-27\n",
      "value           1.38315\n",
      "slope         -0.000028\n",
      "1pred          1.385827\n",
      "2pred           1.38655\n",
      "3pred          1.385589\n",
      "4pred          1.385138\n",
      "5pred          1.386391\n",
      "Name: 484, dtype: object\n",
      "row:  484\n"
     ]
    },
    {
     "name": "stderr",
     "output_type": "stream",
     "text": [
      "INFO:nixtlats.timegpt:Calling Forecast Endpoint...\n",
      "INFO:nixtlats.timegpt:Validating inputs...\n",
      "INFO:nixtlats.timegpt:Preprocessing dataframes...\n"
     ]
    },
    {
     "name": "stdout",
     "output_type": "stream",
     "text": [
      "1.3932617902755737\n",
      "timestamp    2009-05-28\n",
      "value           1.39475\n",
      "slope          -0.00061\n",
      "1pred           1.39573\n",
      "2pred          1.393262\n",
      "3pred           1.39265\n",
      "4pred          1.393684\n",
      "5pred           1.39247\n",
      "Name: 485, dtype: object\n",
      "row:  485\n"
     ]
    },
    {
     "name": "stderr",
     "output_type": "stream",
     "text": [
      "INFO:nixtlats.timegpt:Calling Forecast Endpoint...\n",
      "INFO:nixtlats.timegpt:Validating inputs...\n",
      "INFO:nixtlats.timegpt:Preprocessing dataframes...\n"
     ]
    },
    {
     "name": "stdout",
     "output_type": "stream",
     "text": [
      "1.4087671041488647\n",
      "timestamp    2009-05-29\n",
      "value           1.41565\n",
      "slope         -0.001863\n",
      "1pred          1.411126\n",
      "2pred          1.408767\n",
      "3pred          1.409587\n",
      "4pred          1.407282\n",
      "5pred          1.402552\n",
      "Name: 486, dtype: object\n",
      "row:  486\n"
     ]
    },
    {
     "name": "stderr",
     "output_type": "stream",
     "text": [
      "INFO:nixtlats.timegpt:Calling Forecast Endpoint...\n",
      "INFO:nixtlats.timegpt:Validating inputs...\n",
      "INFO:nixtlats.timegpt:Preprocessing dataframes...\n"
     ]
    },
    {
     "name": "stdout",
     "output_type": "stream",
     "text": [
      "1.4117820262908936\n",
      "timestamp    2009-05-30\n",
      "value           1.41565\n",
      "slope          -0.00126\n",
      "1pred          1.413404\n",
      "2pred          1.411782\n",
      "3pred          1.409214\n",
      "4pred          1.406185\n",
      "5pred          1.409904\n",
      "Name: 487, dtype: object\n",
      "row:  487\n"
     ]
    },
    {
     "name": "stderr",
     "output_type": "stream",
     "text": [
      "INFO:nixtlats.timegpt:Calling Forecast Endpoint...\n",
      "INFO:nixtlats.timegpt:Validating inputs...\n",
      "INFO:nixtlats.timegpt:Preprocessing dataframes...\n"
     ]
    },
    {
     "name": "stdout",
     "output_type": "stream",
     "text": [
      "1.405422568321228\n",
      "timestamp    2009-05-31\n",
      "value           1.41041\n",
      "slope          0.000802\n",
      "1pred          1.410189\n",
      "2pred          1.405423\n",
      "3pred          1.401439\n",
      "4pred          1.406506\n",
      "5pred          1.413657\n",
      "Name: 488, dtype: object\n",
      "row:  488\n"
     ]
    },
    {
     "name": "stderr",
     "output_type": "stream",
     "text": [
      "INFO:nixtlats.timegpt:Calling Forecast Endpoint...\n",
      "INFO:nixtlats.timegpt:Validating inputs...\n",
      "INFO:nixtlats.timegpt:Preprocessing dataframes...\n"
     ]
    },
    {
     "name": "stdout",
     "output_type": "stream",
     "text": [
      "1.408525824546814\n",
      "timestamp    2009-06-01\n",
      "value           1.41805\n",
      "slope          0.002522\n",
      "1pred          1.413666\n",
      "2pred          1.408526\n",
      "3pred          1.413206\n",
      "4pred          1.420075\n",
      "5pred            1.4205\n",
      "Name: 489, dtype: object\n",
      "row:  489\n"
     ]
    },
    {
     "name": "stderr",
     "output_type": "stream",
     "text": [
      "INFO:nixtlats.timegpt:Calling Forecast Endpoint...\n",
      "INFO:nixtlats.timegpt:Validating inputs...\n",
      "INFO:nixtlats.timegpt:Preprocessing dataframes...\n"
     ]
    },
    {
     "name": "stdout",
     "output_type": "stream",
     "text": [
      "1.4235663414001465\n",
      "timestamp    2009-06-02\n",
      "value           1.42885\n",
      "slope          0.003312\n",
      "1pred          1.419233\n",
      "2pred          1.423566\n",
      "3pred          1.432447\n",
      "4pred          1.433327\n",
      "5pred          1.430911\n",
      "Name: 490, dtype: object\n",
      "row:  490\n"
     ]
    },
    {
     "name": "stderr",
     "output_type": "stream",
     "text": [
      "INFO:nixtlats.timegpt:Calling Forecast Endpoint...\n",
      "INFO:nixtlats.timegpt:Validating inputs...\n",
      "INFO:nixtlats.timegpt:Preprocessing dataframes...\n"
     ]
    },
    {
     "name": "stdout",
     "output_type": "stream",
     "text": [
      "1.4229209423065186\n",
      "timestamp    2009-06-03\n",
      "value            1.4142\n",
      "slope          0.001748\n",
      "1pred            1.4166\n",
      "2pred          1.422921\n",
      "3pred           1.42452\n",
      "4pred          1.423789\n",
      "5pred          1.424904\n",
      "Name: 491, dtype: object\n",
      "row:  491\n"
     ]
    },
    {
     "name": "stderr",
     "output_type": "stream",
     "text": [
      "INFO:nixtlats.timegpt:Calling Forecast Endpoint...\n",
      "INFO:nixtlats.timegpt:Validating inputs...\n",
      "INFO:nixtlats.timegpt:Preprocessing dataframes...\n"
     ]
    },
    {
     "name": "stdout",
     "output_type": "stream",
     "text": [
      "1.4208675622940063\n",
      "timestamp    2009-06-04\n",
      "value           1.41675\n",
      "slope          0.000261\n",
      "1pred          1.421503\n",
      "2pred          1.420868\n",
      "3pred          1.420776\n",
      "4pred          1.422741\n",
      "5pred          1.421871\n",
      "Name: 492, dtype: object\n",
      "row:  492\n"
     ]
    },
    {
     "name": "stderr",
     "output_type": "stream",
     "text": [
      "INFO:nixtlats.timegpt:Calling Forecast Endpoint...\n",
      "INFO:nixtlats.timegpt:Validating inputs...\n",
      "INFO:nixtlats.timegpt:Preprocessing dataframes...\n"
     ]
    },
    {
     "name": "stdout",
     "output_type": "stream",
     "text": [
      "1.402467131614685\n",
      "timestamp    2009-06-05\n",
      "value            1.3965\n",
      "slope          0.000376\n",
      "1pred          1.402025\n",
      "2pred          1.402467\n",
      "3pred          1.405073\n",
      "4pred          1.406408\n",
      "5pred          1.401933\n",
      "Name: 493, dtype: object\n",
      "row:  493\n"
     ]
    },
    {
     "name": "stderr",
     "output_type": "stream",
     "text": [
      "INFO:nixtlats.timegpt:Calling Forecast Endpoint...\n",
      "INFO:nixtlats.timegpt:Validating inputs...\n",
      "INFO:nixtlats.timegpt:Preprocessing dataframes...\n"
     ]
    },
    {
     "name": "stdout",
     "output_type": "stream",
     "text": [
      "1.4009076356887817\n",
      "timestamp    2009-06-06\n",
      "value            1.3965\n",
      "slope         -0.000065\n",
      "1pred          1.398544\n",
      "2pred          1.400908\n",
      "3pred          1.402225\n",
      "4pred          1.399731\n",
      "5pred          1.398808\n",
      "Name: 494, dtype: object\n",
      "row:  494\n"
     ]
    },
    {
     "name": "stderr",
     "output_type": "stream",
     "text": [
      "INFO:nixtlats.timegpt:Calling Forecast Endpoint...\n",
      "INFO:nixtlats.timegpt:Validating inputs...\n",
      "INFO:nixtlats.timegpt:Preprocessing dataframes...\n"
     ]
    },
    {
     "name": "stdout",
     "output_type": "stream",
     "text": [
      "1.4031559228897095\n",
      "timestamp    2009-06-07\n",
      "value           1.39745\n",
      "slope         -0.000931\n",
      "1pred          1.401936\n",
      "2pred          1.403156\n",
      "3pred          1.400012\n",
      "4pred          1.399925\n",
      "5pred          1.398894\n",
      "Name: 495, dtype: object\n",
      "row:  495\n"
     ]
    },
    {
     "name": "stderr",
     "output_type": "stream",
     "text": [
      "INFO:nixtlats.timegpt:Calling Forecast Endpoint...\n",
      "INFO:nixtlats.timegpt:Validating inputs...\n",
      "INFO:nixtlats.timegpt:Preprocessing dataframes...\n"
     ]
    },
    {
     "name": "stdout",
     "output_type": "stream",
     "text": [
      "1.393781065940857\n",
      "timestamp    2009-06-08\n",
      "value           1.39285\n",
      "slope         -0.000557\n",
      "1pred           1.39633\n",
      "2pred          1.393781\n",
      "3pred          1.394262\n",
      "4pred          1.394118\n",
      "5pred          1.393378\n",
      "Name: 496, dtype: object\n",
      "row:  496\n"
     ]
    },
    {
     "name": "stderr",
     "output_type": "stream",
     "text": [
      "INFO:nixtlats.timegpt:Calling Forecast Endpoint...\n",
      "INFO:nixtlats.timegpt:Validating inputs...\n",
      "INFO:nixtlats.timegpt:Preprocessing dataframes...\n"
     ]
    },
    {
     "name": "stdout",
     "output_type": "stream",
     "text": [
      "1.4024661779403687\n",
      "timestamp    2009-06-09\n",
      "value            1.4062\n",
      "slope         -0.000664\n",
      "1pred          1.403095\n",
      "2pred          1.402466\n",
      "3pred          1.401827\n",
      "4pred          1.401343\n",
      "5pred          1.400337\n",
      "Name: 497, dtype: object\n",
      "row:  497\n"
     ]
    },
    {
     "name": "stderr",
     "output_type": "stream",
     "text": [
      "INFO:nixtlats.timegpt:Calling Forecast Endpoint...\n",
      "INFO:nixtlats.timegpt:Validating inputs...\n",
      "INFO:nixtlats.timegpt:Preprocessing dataframes...\n"
     ]
    },
    {
     "name": "stdout",
     "output_type": "stream",
     "text": [
      "1.3985347747802734\n",
      "timestamp    2009-06-10\n",
      "value            1.3988\n",
      "slope           0.00012\n",
      "1pred          1.399414\n",
      "2pred          1.398535\n",
      "3pred          1.398457\n",
      "4pred          1.398709\n",
      "5pred          1.399927\n",
      "Name: 498, dtype: object\n",
      "row:  498\n"
     ]
    },
    {
     "name": "stderr",
     "output_type": "stream",
     "text": [
      "INFO:nixtlats.timegpt:Calling Forecast Endpoint...\n",
      "INFO:nixtlats.timegpt:Validating inputs...\n",
      "INFO:nixtlats.timegpt:Preprocessing dataframes...\n"
     ]
    },
    {
     "name": "stdout",
     "output_type": "stream",
     "text": [
      "1.4079140424728394\n",
      "timestamp    2009-06-11\n",
      "value           1.41245\n",
      "slope          0.000042\n",
      "1pred          1.410502\n",
      "2pred          1.407914\n",
      "3pred          1.407414\n",
      "4pred           1.40935\n",
      "5pred          1.409996\n",
      "Name: 499, dtype: object\n",
      "row:  499\n"
     ]
    },
    {
     "name": "stderr",
     "output_type": "stream",
     "text": [
      "INFO:nixtlats.timegpt:Calling Forecast Endpoint...\n",
      "INFO:nixtlats.timegpt:Validating inputs...\n",
      "INFO:nixtlats.timegpt:Preprocessing dataframes...\n"
     ]
    },
    {
     "name": "stdout",
     "output_type": "stream",
     "text": [
      "1.401810884475708\n",
      "timestamp    2009-06-12\n",
      "value            1.4015\n",
      "slope          0.000472\n",
      "1pred          1.402369\n",
      "2pred          1.401811\n",
      "3pred           1.40289\n",
      "4pred          1.404764\n",
      "5pred          1.403251\n",
      "Name: 500, dtype: object\n",
      "row:  500\n"
     ]
    },
    {
     "name": "stderr",
     "output_type": "stream",
     "text": [
      "INFO:nixtlats.timegpt:Calling Forecast Endpoint...\n",
      "INFO:nixtlats.timegpt:Validating inputs...\n",
      "INFO:nixtlats.timegpt:Preprocessing dataframes...\n"
     ]
    },
    {
     "name": "stdout",
     "output_type": "stream",
     "text": [
      "1.4015045166015625\n",
      "timestamp    2009-06-13\n",
      "value            1.4015\n",
      "slope           0.00062\n",
      "1pred           1.40057\n",
      "2pred          1.401505\n",
      "3pred          1.402618\n",
      "4pred          1.402443\n",
      "5pred          1.403202\n",
      "Name: 501, dtype: object\n",
      "row:  501\n"
     ]
    },
    {
     "name": "stderr",
     "output_type": "stream",
     "text": [
      "INFO:nixtlats.timegpt:Calling Forecast Endpoint...\n",
      "INFO:nixtlats.timegpt:Validating inputs...\n",
      "INFO:nixtlats.timegpt:Preprocessing dataframes...\n"
     ]
    },
    {
     "name": "stdout",
     "output_type": "stream",
     "text": [
      "1.3998037576675415\n",
      "timestamp    2009-06-14\n",
      "value           1.39763\n",
      "slope          0.000802\n",
      "1pred          1.398413\n",
      "2pred          1.399804\n",
      "3pred          1.400215\n",
      "4pred           1.40216\n",
      "5pred          1.401246\n",
      "Name: 502, dtype: object\n",
      "row:  502\n"
     ]
    },
    {
     "name": "stderr",
     "output_type": "stream",
     "text": [
      "INFO:nixtlats.timegpt:Calling Forecast Endpoint...\n",
      "INFO:nixtlats.timegpt:Validating inputs...\n",
      "INFO:nixtlats.timegpt:Preprocessing dataframes...\n"
     ]
    },
    {
     "name": "stdout",
     "output_type": "stream",
     "text": [
      "1.3929945230484009\n",
      "timestamp    2009-06-15\n",
      "value           1.37737\n",
      "slope          0.001566\n",
      "1pred          1.390276\n",
      "2pred          1.392995\n",
      "3pred          1.396646\n",
      "4pred           1.39736\n",
      "5pred          1.395923\n",
      "Name: 503, dtype: object\n",
      "row:  503\n"
     ]
    },
    {
     "name": "stderr",
     "output_type": "stream",
     "text": [
      "INFO:nixtlats.timegpt:Calling Forecast Endpoint...\n",
      "INFO:nixtlats.timegpt:Validating inputs...\n",
      "INFO:nixtlats.timegpt:Preprocessing dataframes...\n"
     ]
    },
    {
     "name": "stdout",
     "output_type": "stream",
     "text": [
      "1.3937441110610962\n",
      "timestamp    2009-06-16\n",
      "value           1.38143\n",
      "slope          0.000899\n",
      "1pred          1.390032\n",
      "2pred          1.393744\n",
      "3pred          1.395157\n",
      "4pred          1.394826\n",
      "5pred          1.393984\n",
      "Name: 504, dtype: object\n",
      "row:  504\n"
     ]
    },
    {
     "name": "stderr",
     "output_type": "stream",
     "text": [
      "INFO:nixtlats.timegpt:Calling Forecast Endpoint...\n",
      "INFO:nixtlats.timegpt:Validating inputs...\n",
      "INFO:nixtlats.timegpt:Preprocessing dataframes...\n"
     ]
    },
    {
     "name": "stdout",
     "output_type": "stream",
     "text": [
      "1.3973047733306885\n",
      "timestamp    2009-06-17\n",
      "value           1.39681\n",
      "slope         -0.000882\n",
      "1pred          1.397399\n",
      "2pred          1.397305\n",
      "3pred          1.396999\n",
      "4pred          1.395532\n",
      "5pred          1.393876\n",
      "Name: 505, dtype: object\n",
      "row:  505\n"
     ]
    },
    {
     "name": "stderr",
     "output_type": "stream",
     "text": [
      "INFO:nixtlats.timegpt:Calling Forecast Endpoint...\n",
      "INFO:nixtlats.timegpt:Validating inputs...\n",
      "INFO:nixtlats.timegpt:Preprocessing dataframes...\n"
     ]
    },
    {
     "name": "stdout",
     "output_type": "stream",
     "text": [
      "1.3954609632492065\n",
      "timestamp    2009-06-18\n",
      "value            1.3908\n",
      "slope         -0.000344\n",
      "1pred          1.395168\n",
      "2pred          1.395461\n",
      "3pred          1.395055\n",
      "4pred          1.394018\n",
      "5pred          1.394167\n",
      "Name: 506, dtype: object\n",
      "row:  506\n"
     ]
    },
    {
     "ename": "ApiError",
     "evalue": "status_code: 500, body: {'data': None, 'message': 'Request failed with status code 500', 'code': 'B30', 'requestID': '6FGEWGKRSE', 'support': 'If you have questions or need support, please email ops@nixtla.io'}",
     "output_type": "error",
     "traceback": [
      "\u001b[0;31m---------------------------------------------------------------------------\u001b[0m",
      "\u001b[0;31mApiError\u001b[0m                                  Traceback (most recent call last)",
      "\u001b[0;32m/tmp/ipykernel_3827/2823202495.py\u001b[0m in \u001b[0;36m<module>\u001b[0;34m\u001b[0m\n\u001b[1;32m     50\u001b[0m \u001b[0;34m\u001b[0m\u001b[0m\n\u001b[1;32m     51\u001b[0m     \u001b[0;31m# Calculate the sum of the \"value\" column using the function\u001b[0m\u001b[0;34m\u001b[0m\u001b[0;34m\u001b[0m\u001b[0m\n\u001b[0;32m---> 52\u001b[0;31m     \u001b[0mslope\u001b[0m\u001b[0;34m,\u001b[0m \u001b[0mlatest_values\u001b[0m \u001b[0;34m=\u001b[0m \u001b[0mcalculate_total\u001b[0m\u001b[0;34m(\u001b[0m\u001b[0msub_df\u001b[0m\u001b[0;34m)\u001b[0m\u001b[0;34m\u001b[0m\u001b[0;34m\u001b[0m\u001b[0m\n\u001b[0m\u001b[1;32m     53\u001b[0m \u001b[0;34m\u001b[0m\u001b[0m\n\u001b[1;32m     54\u001b[0m     \u001b[0;31m# Store the total in a new column called \"total\" in the original DataFrame\u001b[0m\u001b[0;34m\u001b[0m\u001b[0;34m\u001b[0m\u001b[0m\n",
      "\u001b[0;32m/tmp/ipykernel_3827/2823202495.py\u001b[0m in \u001b[0;36mcalculate_total\u001b[0;34m(df)\u001b[0m\n\u001b[1;32m     21\u001b[0m     \u001b[0;31m# timegpt_fcst_df, time_col='timestamp', target_col='TimeGPT'\u001b[0m\u001b[0;34m\u001b[0m\u001b[0;34m\u001b[0m\u001b[0m\n\u001b[1;32m     22\u001b[0m \u001b[0;34m\u001b[0m\u001b[0m\n\u001b[0;32m---> 23\u001b[0;31m     \u001b[0mtimegpt_fcst_df\u001b[0m \u001b[0;34m=\u001b[0m \u001b[0mtimegpt\u001b[0m\u001b[0;34m.\u001b[0m\u001b[0mforecast\u001b[0m\u001b[0;34m(\u001b[0m\u001b[0mdf\u001b[0m\u001b[0;34m=\u001b[0m\u001b[0mdf\u001b[0m\u001b[0;34m,\u001b[0m \u001b[0mh\u001b[0m\u001b[0;34m=\u001b[0m\u001b[0;36m5\u001b[0m\u001b[0;34m,\u001b[0m \u001b[0mfreq\u001b[0m\u001b[0;34m=\u001b[0m\u001b[0;34m'D'\u001b[0m\u001b[0;34m,\u001b[0m \u001b[0mtime_col\u001b[0m\u001b[0;34m=\u001b[0m\u001b[0;34m'timestamp'\u001b[0m\u001b[0;34m,\u001b[0m \u001b[0mtarget_col\u001b[0m\u001b[0;34m=\u001b[0m\u001b[0;34m'value'\u001b[0m\u001b[0;34m)\u001b[0m\u001b[0;34m\u001b[0m\u001b[0;34m\u001b[0m\u001b[0m\n\u001b[0m\u001b[1;32m     24\u001b[0m     \u001b[0;31m# TODO\u001b[0m\u001b[0;34m\u001b[0m\u001b[0;34m\u001b[0m\u001b[0m\n\u001b[1;32m     25\u001b[0m     \u001b[0mx\u001b[0m \u001b[0;34m=\u001b[0m \u001b[0mnp\u001b[0m\u001b[0;34m.\u001b[0m\u001b[0marange\u001b[0m\u001b[0;34m(\u001b[0m\u001b[0mlen\u001b[0m\u001b[0;34m(\u001b[0m\u001b[0mtimegpt_fcst_df\u001b[0m\u001b[0;34m)\u001b[0m\u001b[0;34m)\u001b[0m\u001b[0;34m\u001b[0m\u001b[0;34m\u001b[0m\u001b[0m\n",
      "\u001b[0;32m~/.local/lib/python3.10/site-packages/nixtlats/timegpt.py\u001b[0m in \u001b[0;36mforecast\u001b[0;34m(self, df, h, freq, id_col, time_col, target_col, X_df, level, finetune_steps, clean_ex_first, validate_token, add_history, date_features, date_features_to_one_hot, model, num_partitions)\u001b[0m\n\u001b[1;32m   1076\u001b[0m         \"\"\"\n\u001b[1;32m   1077\u001b[0m         \u001b[0;32mif\u001b[0m \u001b[0misinstance\u001b[0m\u001b[0;34m(\u001b[0m\u001b[0mdf\u001b[0m\u001b[0;34m,\u001b[0m \u001b[0mpd\u001b[0m\u001b[0;34m.\u001b[0m\u001b[0mDataFrame\u001b[0m\u001b[0;34m)\u001b[0m\u001b[0;34m:\u001b[0m\u001b[0;34m\u001b[0m\u001b[0;34m\u001b[0m\u001b[0m\n\u001b[0;32m-> 1078\u001b[0;31m             return self._forecast(\n\u001b[0m\u001b[1;32m   1079\u001b[0m                 \u001b[0mdf\u001b[0m\u001b[0;34m=\u001b[0m\u001b[0mdf\u001b[0m\u001b[0;34m,\u001b[0m\u001b[0;34m\u001b[0m\u001b[0;34m\u001b[0m\u001b[0m\n\u001b[1;32m   1080\u001b[0m                 \u001b[0mh\u001b[0m\u001b[0;34m=\u001b[0m\u001b[0mh\u001b[0m\u001b[0;34m,\u001b[0m\u001b[0;34m\u001b[0m\u001b[0;34m\u001b[0m\u001b[0m\n",
      "\u001b[0;32m~/.local/lib/python3.10/site-packages/nixtlats/timegpt.py\u001b[0m in \u001b[0;36mwrapper\u001b[0;34m(self, *args, **kwargs)\u001b[0m\n\u001b[1;32m    623\u001b[0m                 \u001b[0;34mf'supported models: {\", \".join(self.supported_models)}'\u001b[0m\u001b[0;34m\u001b[0m\u001b[0;34m\u001b[0m\u001b[0m\n\u001b[1;32m    624\u001b[0m             )\n\u001b[0;32m--> 625\u001b[0;31m         \u001b[0;32mreturn\u001b[0m \u001b[0mfunc\u001b[0m\u001b[0;34m(\u001b[0m\u001b[0mself\u001b[0m\u001b[0;34m,\u001b[0m \u001b[0;34m*\u001b[0m\u001b[0margs\u001b[0m\u001b[0;34m,\u001b[0m \u001b[0;34m**\u001b[0m\u001b[0mkwargs\u001b[0m\u001b[0;34m)\u001b[0m\u001b[0;34m\u001b[0m\u001b[0;34m\u001b[0m\u001b[0m\n\u001b[0m\u001b[1;32m    626\u001b[0m \u001b[0;34m\u001b[0m\u001b[0m\n\u001b[1;32m    627\u001b[0m     \u001b[0;32mreturn\u001b[0m \u001b[0mwrapper\u001b[0m\u001b[0;34m\u001b[0m\u001b[0;34m\u001b[0m\u001b[0m\n",
      "\u001b[0;32m~/.local/lib/python3.10/site-packages/nixtlats/timegpt.py\u001b[0m in \u001b[0;36mwrapper\u001b[0;34m(self, num_partitions, **kwargs)\u001b[0m\n\u001b[1;32m    641\u001b[0m     \u001b[0;32mdef\u001b[0m \u001b[0mwrapper\u001b[0m\u001b[0;34m(\u001b[0m\u001b[0mself\u001b[0m\u001b[0;34m,\u001b[0m \u001b[0mnum_partitions\u001b[0m\u001b[0;34m,\u001b[0m \u001b[0;34m**\u001b[0m\u001b[0mkwargs\u001b[0m\u001b[0;34m)\u001b[0m\u001b[0;34m:\u001b[0m\u001b[0;34m\u001b[0m\u001b[0;34m\u001b[0m\u001b[0m\n\u001b[1;32m    642\u001b[0m         \u001b[0;32mif\u001b[0m \u001b[0mnum_partitions\u001b[0m \u001b[0;32mis\u001b[0m \u001b[0;32mNone\u001b[0m \u001b[0;32mor\u001b[0m \u001b[0mnum_partitions\u001b[0m \u001b[0;34m==\u001b[0m \u001b[0;36m1\u001b[0m\u001b[0;34m:\u001b[0m\u001b[0;34m\u001b[0m\u001b[0;34m\u001b[0m\u001b[0m\n\u001b[0;32m--> 643\u001b[0;31m             \u001b[0;32mreturn\u001b[0m \u001b[0mfunc\u001b[0m\u001b[0;34m(\u001b[0m\u001b[0mself\u001b[0m\u001b[0;34m,\u001b[0m \u001b[0;34m**\u001b[0m\u001b[0mkwargs\u001b[0m\u001b[0;34m,\u001b[0m \u001b[0mnum_partitions\u001b[0m\u001b[0;34m=\u001b[0m\u001b[0;36m1\u001b[0m\u001b[0;34m)\u001b[0m\u001b[0;34m\u001b[0m\u001b[0;34m\u001b[0m\u001b[0m\n\u001b[0m\u001b[1;32m    644\u001b[0m         \u001b[0mdf\u001b[0m \u001b[0;34m=\u001b[0m \u001b[0mkwargs\u001b[0m\u001b[0;34m.\u001b[0m\u001b[0mpop\u001b[0m\u001b[0;34m(\u001b[0m\u001b[0;34m\"df\"\u001b[0m\u001b[0;34m)\u001b[0m\u001b[0;34m\u001b[0m\u001b[0;34m\u001b[0m\u001b[0m\n\u001b[1;32m    645\u001b[0m         \u001b[0mX_df\u001b[0m \u001b[0;34m=\u001b[0m \u001b[0mkwargs\u001b[0m\u001b[0;34m.\u001b[0m\u001b[0mpop\u001b[0m\u001b[0;34m(\u001b[0m\u001b[0;34m\"X_df\"\u001b[0m\u001b[0;34m,\u001b[0m \u001b[0;32mNone\u001b[0m\u001b[0;34m)\u001b[0m\u001b[0;34m\u001b[0m\u001b[0;34m\u001b[0m\u001b[0m\n",
      "\u001b[0;32m~/.local/lib/python3.10/site-packages/nixtlats/timegpt.py\u001b[0m in \u001b[0;36m_forecast\u001b[0;34m(self, df, h, freq, id_col, time_col, target_col, X_df, level, finetune_steps, clean_ex_first, validate_token, add_history, date_features, date_features_to_one_hot, model, num_partitions)\u001b[0m\n\u001b[1;32m    777\u001b[0m             \u001b[0mmax_wait_time\u001b[0m\u001b[0;34m=\u001b[0m\u001b[0mself\u001b[0m\u001b[0;34m.\u001b[0m\u001b[0mmax_wait_time\u001b[0m\u001b[0;34m,\u001b[0m\u001b[0;34m\u001b[0m\u001b[0;34m\u001b[0m\u001b[0m\n\u001b[1;32m    778\u001b[0m         )\n\u001b[0;32m--> 779\u001b[0;31m         \u001b[0mfcst_df\u001b[0m \u001b[0;34m=\u001b[0m \u001b[0mtimegpt_model\u001b[0m\u001b[0;34m.\u001b[0m\u001b[0mforecast\u001b[0m\u001b[0;34m(\u001b[0m\u001b[0mdf\u001b[0m\u001b[0;34m=\u001b[0m\u001b[0mdf\u001b[0m\u001b[0;34m,\u001b[0m \u001b[0mX_df\u001b[0m\u001b[0;34m=\u001b[0m\u001b[0mX_df\u001b[0m\u001b[0;34m,\u001b[0m \u001b[0madd_history\u001b[0m\u001b[0;34m=\u001b[0m\u001b[0madd_history\u001b[0m\u001b[0;34m)\u001b[0m\u001b[0;34m\u001b[0m\u001b[0;34m\u001b[0m\u001b[0m\n\u001b[0m\u001b[1;32m    780\u001b[0m         \u001b[0mself\u001b[0m\u001b[0;34m.\u001b[0m\u001b[0mweights_x\u001b[0m \u001b[0;34m=\u001b[0m \u001b[0mtimegpt_model\u001b[0m\u001b[0;34m.\u001b[0m\u001b[0mweights_x\u001b[0m\u001b[0;34m\u001b[0m\u001b[0;34m\u001b[0m\u001b[0m\n\u001b[1;32m    781\u001b[0m         \u001b[0;32mreturn\u001b[0m \u001b[0mfcst_df\u001b[0m\u001b[0;34m\u001b[0m\u001b[0;34m\u001b[0m\u001b[0m\n",
      "\u001b[0;32m~/.local/lib/python3.10/site-packages/nixtlats/timegpt.py\u001b[0m in \u001b[0;36mforecast\u001b[0;34m(self, df, X_df, add_history)\u001b[0m\n\u001b[1;32m    443\u001b[0m         \u001b[0mmain_logger\u001b[0m\u001b[0;34m.\u001b[0m\u001b[0minfo\u001b[0m\u001b[0;34m(\u001b[0m\u001b[0;34m\"Preprocessing dataframes...\"\u001b[0m\u001b[0;34m)\u001b[0m\u001b[0;34m\u001b[0m\u001b[0;34m\u001b[0m\u001b[0m\n\u001b[1;32m    444\u001b[0m         \u001b[0mY_df\u001b[0m\u001b[0;34m,\u001b[0m \u001b[0mX_df\u001b[0m \u001b[0;34m=\u001b[0m \u001b[0mself\u001b[0m\u001b[0;34m.\u001b[0m\u001b[0mpreprocess_dataframes\u001b[0m\u001b[0;34m(\u001b[0m\u001b[0mdf\u001b[0m\u001b[0;34m=\u001b[0m\u001b[0mdf\u001b[0m\u001b[0;34m,\u001b[0m \u001b[0mX_df\u001b[0m\u001b[0;34m=\u001b[0m\u001b[0mX_df\u001b[0m\u001b[0;34m)\u001b[0m\u001b[0;34m\u001b[0m\u001b[0;34m\u001b[0m\u001b[0m\n\u001b[0;32m--> 445\u001b[0;31m         \u001b[0mself\u001b[0m\u001b[0;34m.\u001b[0m\u001b[0mset_model_params\u001b[0m\u001b[0;34m(\u001b[0m\u001b[0;34m)\u001b[0m\u001b[0;34m\u001b[0m\u001b[0;34m\u001b[0m\u001b[0m\n\u001b[0m\u001b[1;32m    446\u001b[0m         \u001b[0;32mif\u001b[0m \u001b[0mself\u001b[0m\u001b[0;34m.\u001b[0m\u001b[0mh\u001b[0m \u001b[0;34m>\u001b[0m \u001b[0mself\u001b[0m\u001b[0;34m.\u001b[0m\u001b[0mmodel_horizon\u001b[0m\u001b[0;34m:\u001b[0m\u001b[0;34m\u001b[0m\u001b[0;34m\u001b[0m\u001b[0m\n\u001b[1;32m    447\u001b[0m             main_logger.warning(\n",
      "\u001b[0;32m~/.local/lib/python3.10/site-packages/nixtlats/timegpt.py\u001b[0m in \u001b[0;36mset_model_params\u001b[0;34m(self)\u001b[0m\n\u001b[1;32m    415\u001b[0m \u001b[0;34m\u001b[0m\u001b[0m\n\u001b[1;32m    416\u001b[0m     \u001b[0;32mdef\u001b[0m \u001b[0mset_model_params\u001b[0m\u001b[0;34m(\u001b[0m\u001b[0mself\u001b[0m\u001b[0;34m)\u001b[0m\u001b[0;34m:\u001b[0m\u001b[0;34m\u001b[0m\u001b[0;34m\u001b[0m\u001b[0m\n\u001b[0;32m--> 417\u001b[0;31m         model_params = self._call_api(\n\u001b[0m\u001b[1;32m    418\u001b[0m             \u001b[0mself\u001b[0m\u001b[0;34m.\u001b[0m\u001b[0mclient\u001b[0m\u001b[0;34m.\u001b[0m\u001b[0mtimegpt_model_params\u001b[0m\u001b[0;34m,\u001b[0m\u001b[0;34m\u001b[0m\u001b[0;34m\u001b[0m\u001b[0m\n\u001b[1;32m    419\u001b[0m             \u001b[0;34m{\u001b[0m\u001b[0;34m\"request\"\u001b[0m\u001b[0;34m:\u001b[0m \u001b[0mSingleSeriesForecast\u001b[0m\u001b[0;34m(\u001b[0m\u001b[0mfreq\u001b[0m\u001b[0;34m=\u001b[0m\u001b[0mself\u001b[0m\u001b[0;34m.\u001b[0m\u001b[0mfreq\u001b[0m\u001b[0;34m,\u001b[0m \u001b[0mmodel\u001b[0m\u001b[0;34m=\u001b[0m\u001b[0mself\u001b[0m\u001b[0;34m.\u001b[0m\u001b[0mmodel\u001b[0m\u001b[0;34m)\u001b[0m\u001b[0;34m}\u001b[0m\u001b[0;34m,\u001b[0m\u001b[0;34m\u001b[0m\u001b[0;34m\u001b[0m\u001b[0m\n",
      "\u001b[0;32m~/.local/lib/python3.10/site-packages/nixtlats/timegpt.py\u001b[0m in \u001b[0;36m_call_api\u001b[0;34m(self, method, kwargs)\u001b[0m\n\u001b[1;32m    159\u001b[0m \u001b[0;34m\u001b[0m\u001b[0m\n\u001b[1;32m    160\u001b[0m     \u001b[0;32mdef\u001b[0m \u001b[0m_call_api\u001b[0m\u001b[0;34m(\u001b[0m\u001b[0mself\u001b[0m\u001b[0;34m,\u001b[0m \u001b[0mmethod\u001b[0m\u001b[0;34m,\u001b[0m \u001b[0mkwargs\u001b[0m\u001b[0;34m)\u001b[0m\u001b[0;34m:\u001b[0m\u001b[0;34m\u001b[0m\u001b[0;34m\u001b[0m\u001b[0m\n\u001b[0;32m--> 161\u001b[0;31m         \u001b[0mresponse\u001b[0m \u001b[0;34m=\u001b[0m \u001b[0mself\u001b[0m\u001b[0;34m.\u001b[0m\u001b[0m_retry_strategy\u001b[0m\u001b[0;34m(\u001b[0m\u001b[0;34m)\u001b[0m\u001b[0;34m(\u001b[0m\u001b[0mmethod\u001b[0m\u001b[0;34m)\u001b[0m\u001b[0;34m(\u001b[0m\u001b[0;34m**\u001b[0m\u001b[0mkwargs\u001b[0m\u001b[0;34m)\u001b[0m\u001b[0;34m\u001b[0m\u001b[0;34m\u001b[0m\u001b[0m\n\u001b[0m\u001b[1;32m    162\u001b[0m         \u001b[0;32mif\u001b[0m \u001b[0;34m\"data\"\u001b[0m \u001b[0;32min\u001b[0m \u001b[0mresponse\u001b[0m\u001b[0;34m:\u001b[0m\u001b[0;34m\u001b[0m\u001b[0;34m\u001b[0m\u001b[0m\n\u001b[1;32m    163\u001b[0m             \u001b[0mresponse\u001b[0m \u001b[0;34m=\u001b[0m \u001b[0mresponse\u001b[0m\u001b[0;34m[\u001b[0m\u001b[0;34m\"data\"\u001b[0m\u001b[0;34m]\u001b[0m\u001b[0;34m\u001b[0m\u001b[0;34m\u001b[0m\u001b[0m\n",
      "\u001b[0;32m~/.local/lib/python3.10/site-packages/tenacity/__init__.py\u001b[0m in \u001b[0;36mwrapped_f\u001b[0;34m(*args, **kw)\u001b[0m\n\u001b[1;32m    287\u001b[0m         \u001b[0;34m@\u001b[0m\u001b[0mfunctools\u001b[0m\u001b[0;34m.\u001b[0m\u001b[0mwraps\u001b[0m\u001b[0;34m(\u001b[0m\u001b[0mf\u001b[0m\u001b[0;34m)\u001b[0m\u001b[0;34m\u001b[0m\u001b[0;34m\u001b[0m\u001b[0m\n\u001b[1;32m    288\u001b[0m         \u001b[0;32mdef\u001b[0m \u001b[0mwrapped_f\u001b[0m\u001b[0;34m(\u001b[0m\u001b[0;34m*\u001b[0m\u001b[0margs\u001b[0m\u001b[0;34m:\u001b[0m \u001b[0mt\u001b[0m\u001b[0;34m.\u001b[0m\u001b[0mAny\u001b[0m\u001b[0;34m,\u001b[0m \u001b[0;34m**\u001b[0m\u001b[0mkw\u001b[0m\u001b[0;34m:\u001b[0m \u001b[0mt\u001b[0m\u001b[0;34m.\u001b[0m\u001b[0mAny\u001b[0m\u001b[0;34m)\u001b[0m \u001b[0;34m->\u001b[0m \u001b[0mt\u001b[0m\u001b[0;34m.\u001b[0m\u001b[0mAny\u001b[0m\u001b[0;34m:\u001b[0m\u001b[0;34m\u001b[0m\u001b[0;34m\u001b[0m\u001b[0m\n\u001b[0;32m--> 289\u001b[0;31m             \u001b[0;32mreturn\u001b[0m \u001b[0mself\u001b[0m\u001b[0;34m(\u001b[0m\u001b[0mf\u001b[0m\u001b[0;34m,\u001b[0m \u001b[0;34m*\u001b[0m\u001b[0margs\u001b[0m\u001b[0;34m,\u001b[0m \u001b[0;34m**\u001b[0m\u001b[0mkw\u001b[0m\u001b[0;34m)\u001b[0m\u001b[0;34m\u001b[0m\u001b[0;34m\u001b[0m\u001b[0m\n\u001b[0m\u001b[1;32m    290\u001b[0m \u001b[0;34m\u001b[0m\u001b[0m\n\u001b[1;32m    291\u001b[0m         \u001b[0;32mdef\u001b[0m \u001b[0mretry_with\u001b[0m\u001b[0;34m(\u001b[0m\u001b[0;34m*\u001b[0m\u001b[0margs\u001b[0m\u001b[0;34m:\u001b[0m \u001b[0mt\u001b[0m\u001b[0;34m.\u001b[0m\u001b[0mAny\u001b[0m\u001b[0;34m,\u001b[0m \u001b[0;34m**\u001b[0m\u001b[0mkwargs\u001b[0m\u001b[0;34m:\u001b[0m \u001b[0mt\u001b[0m\u001b[0;34m.\u001b[0m\u001b[0mAny\u001b[0m\u001b[0;34m)\u001b[0m \u001b[0;34m->\u001b[0m \u001b[0mWrappedFn\u001b[0m\u001b[0;34m:\u001b[0m\u001b[0;34m\u001b[0m\u001b[0;34m\u001b[0m\u001b[0m\n",
      "\u001b[0;32m~/.local/lib/python3.10/site-packages/tenacity/__init__.py\u001b[0m in \u001b[0;36m__call__\u001b[0;34m(self, fn, *args, **kwargs)\u001b[0m\n\u001b[1;32m    377\u001b[0m         \u001b[0mretry_state\u001b[0m \u001b[0;34m=\u001b[0m \u001b[0mRetryCallState\u001b[0m\u001b[0;34m(\u001b[0m\u001b[0mretry_object\u001b[0m\u001b[0;34m=\u001b[0m\u001b[0mself\u001b[0m\u001b[0;34m,\u001b[0m \u001b[0mfn\u001b[0m\u001b[0;34m=\u001b[0m\u001b[0mfn\u001b[0m\u001b[0;34m,\u001b[0m \u001b[0margs\u001b[0m\u001b[0;34m=\u001b[0m\u001b[0margs\u001b[0m\u001b[0;34m,\u001b[0m \u001b[0mkwargs\u001b[0m\u001b[0;34m=\u001b[0m\u001b[0mkwargs\u001b[0m\u001b[0;34m)\u001b[0m\u001b[0;34m\u001b[0m\u001b[0;34m\u001b[0m\u001b[0m\n\u001b[1;32m    378\u001b[0m         \u001b[0;32mwhile\u001b[0m \u001b[0;32mTrue\u001b[0m\u001b[0;34m:\u001b[0m\u001b[0;34m\u001b[0m\u001b[0;34m\u001b[0m\u001b[0m\n\u001b[0;32m--> 379\u001b[0;31m             \u001b[0mdo\u001b[0m \u001b[0;34m=\u001b[0m \u001b[0mself\u001b[0m\u001b[0;34m.\u001b[0m\u001b[0miter\u001b[0m\u001b[0;34m(\u001b[0m\u001b[0mretry_state\u001b[0m\u001b[0;34m=\u001b[0m\u001b[0mretry_state\u001b[0m\u001b[0;34m)\u001b[0m\u001b[0;34m\u001b[0m\u001b[0;34m\u001b[0m\u001b[0m\n\u001b[0m\u001b[1;32m    380\u001b[0m             \u001b[0;32mif\u001b[0m \u001b[0misinstance\u001b[0m\u001b[0;34m(\u001b[0m\u001b[0mdo\u001b[0m\u001b[0;34m,\u001b[0m \u001b[0mDoAttempt\u001b[0m\u001b[0;34m)\u001b[0m\u001b[0;34m:\u001b[0m\u001b[0;34m\u001b[0m\u001b[0;34m\u001b[0m\u001b[0m\n\u001b[1;32m    381\u001b[0m                 \u001b[0;32mtry\u001b[0m\u001b[0;34m:\u001b[0m\u001b[0;34m\u001b[0m\u001b[0;34m\u001b[0m\u001b[0m\n",
      "\u001b[0;32m~/.local/lib/python3.10/site-packages/tenacity/__init__.py\u001b[0m in \u001b[0;36miter\u001b[0;34m(self, retry_state)\u001b[0m\n\u001b[1;32m    312\u001b[0m         \u001b[0mis_explicit_retry\u001b[0m \u001b[0;34m=\u001b[0m \u001b[0mfut\u001b[0m\u001b[0;34m.\u001b[0m\u001b[0mfailed\u001b[0m \u001b[0;32mand\u001b[0m \u001b[0misinstance\u001b[0m\u001b[0;34m(\u001b[0m\u001b[0mfut\u001b[0m\u001b[0;34m.\u001b[0m\u001b[0mexception\u001b[0m\u001b[0;34m(\u001b[0m\u001b[0;34m)\u001b[0m\u001b[0;34m,\u001b[0m \u001b[0mTryAgain\u001b[0m\u001b[0;34m)\u001b[0m\u001b[0;34m\u001b[0m\u001b[0;34m\u001b[0m\u001b[0m\n\u001b[1;32m    313\u001b[0m         \u001b[0;32mif\u001b[0m \u001b[0;32mnot\u001b[0m \u001b[0;34m(\u001b[0m\u001b[0mis_explicit_retry\u001b[0m \u001b[0;32mor\u001b[0m \u001b[0mself\u001b[0m\u001b[0;34m.\u001b[0m\u001b[0mretry\u001b[0m\u001b[0;34m(\u001b[0m\u001b[0mretry_state\u001b[0m\u001b[0;34m)\u001b[0m\u001b[0;34m)\u001b[0m\u001b[0;34m:\u001b[0m\u001b[0;34m\u001b[0m\u001b[0;34m\u001b[0m\u001b[0m\n\u001b[0;32m--> 314\u001b[0;31m             \u001b[0;32mreturn\u001b[0m \u001b[0mfut\u001b[0m\u001b[0;34m.\u001b[0m\u001b[0mresult\u001b[0m\u001b[0;34m(\u001b[0m\u001b[0;34m)\u001b[0m\u001b[0;34m\u001b[0m\u001b[0;34m\u001b[0m\u001b[0m\n\u001b[0m\u001b[1;32m    315\u001b[0m \u001b[0;34m\u001b[0m\u001b[0m\n\u001b[1;32m    316\u001b[0m         \u001b[0;32mif\u001b[0m \u001b[0mself\u001b[0m\u001b[0;34m.\u001b[0m\u001b[0mafter\u001b[0m \u001b[0;32mis\u001b[0m \u001b[0;32mnot\u001b[0m \u001b[0;32mNone\u001b[0m\u001b[0;34m:\u001b[0m\u001b[0;34m\u001b[0m\u001b[0;34m\u001b[0m\u001b[0m\n",
      "\u001b[0;32m/usr/lib/python3.10/concurrent/futures/_base.py\u001b[0m in \u001b[0;36mresult\u001b[0;34m(self, timeout)\u001b[0m\n\u001b[1;32m    449\u001b[0m                     \u001b[0;32mraise\u001b[0m \u001b[0mCancelledError\u001b[0m\u001b[0;34m(\u001b[0m\u001b[0;34m)\u001b[0m\u001b[0;34m\u001b[0m\u001b[0;34m\u001b[0m\u001b[0m\n\u001b[1;32m    450\u001b[0m                 \u001b[0;32melif\u001b[0m \u001b[0mself\u001b[0m\u001b[0;34m.\u001b[0m\u001b[0m_state\u001b[0m \u001b[0;34m==\u001b[0m \u001b[0mFINISHED\u001b[0m\u001b[0;34m:\u001b[0m\u001b[0;34m\u001b[0m\u001b[0;34m\u001b[0m\u001b[0m\n\u001b[0;32m--> 451\u001b[0;31m                     \u001b[0;32mreturn\u001b[0m \u001b[0mself\u001b[0m\u001b[0;34m.\u001b[0m\u001b[0m__get_result\u001b[0m\u001b[0;34m(\u001b[0m\u001b[0;34m)\u001b[0m\u001b[0;34m\u001b[0m\u001b[0;34m\u001b[0m\u001b[0m\n\u001b[0m\u001b[1;32m    452\u001b[0m \u001b[0;34m\u001b[0m\u001b[0m\n\u001b[1;32m    453\u001b[0m                 \u001b[0mself\u001b[0m\u001b[0;34m.\u001b[0m\u001b[0m_condition\u001b[0m\u001b[0;34m.\u001b[0m\u001b[0mwait\u001b[0m\u001b[0;34m(\u001b[0m\u001b[0mtimeout\u001b[0m\u001b[0;34m)\u001b[0m\u001b[0;34m\u001b[0m\u001b[0;34m\u001b[0m\u001b[0m\n",
      "\u001b[0;32m/usr/lib/python3.10/concurrent/futures/_base.py\u001b[0m in \u001b[0;36m__get_result\u001b[0;34m(self)\u001b[0m\n\u001b[1;32m    401\u001b[0m         \u001b[0;32mif\u001b[0m \u001b[0mself\u001b[0m\u001b[0;34m.\u001b[0m\u001b[0m_exception\u001b[0m\u001b[0;34m:\u001b[0m\u001b[0;34m\u001b[0m\u001b[0;34m\u001b[0m\u001b[0m\n\u001b[1;32m    402\u001b[0m             \u001b[0;32mtry\u001b[0m\u001b[0;34m:\u001b[0m\u001b[0;34m\u001b[0m\u001b[0;34m\u001b[0m\u001b[0m\n\u001b[0;32m--> 403\u001b[0;31m                 \u001b[0;32mraise\u001b[0m \u001b[0mself\u001b[0m\u001b[0;34m.\u001b[0m\u001b[0m_exception\u001b[0m\u001b[0;34m\u001b[0m\u001b[0;34m\u001b[0m\u001b[0m\n\u001b[0m\u001b[1;32m    404\u001b[0m             \u001b[0;32mfinally\u001b[0m\u001b[0;34m:\u001b[0m\u001b[0;34m\u001b[0m\u001b[0;34m\u001b[0m\u001b[0m\n\u001b[1;32m    405\u001b[0m                 \u001b[0;31m# Break a reference cycle with the exception in self._exception\u001b[0m\u001b[0;34m\u001b[0m\u001b[0;34m\u001b[0m\u001b[0m\n",
      "\u001b[0;32m~/.local/lib/python3.10/site-packages/tenacity/__init__.py\u001b[0m in \u001b[0;36m__call__\u001b[0;34m(self, fn, *args, **kwargs)\u001b[0m\n\u001b[1;32m    380\u001b[0m             \u001b[0;32mif\u001b[0m \u001b[0misinstance\u001b[0m\u001b[0;34m(\u001b[0m\u001b[0mdo\u001b[0m\u001b[0;34m,\u001b[0m \u001b[0mDoAttempt\u001b[0m\u001b[0;34m)\u001b[0m\u001b[0;34m:\u001b[0m\u001b[0;34m\u001b[0m\u001b[0;34m\u001b[0m\u001b[0m\n\u001b[1;32m    381\u001b[0m                 \u001b[0;32mtry\u001b[0m\u001b[0;34m:\u001b[0m\u001b[0;34m\u001b[0m\u001b[0;34m\u001b[0m\u001b[0m\n\u001b[0;32m--> 382\u001b[0;31m                     \u001b[0mresult\u001b[0m \u001b[0;34m=\u001b[0m \u001b[0mfn\u001b[0m\u001b[0;34m(\u001b[0m\u001b[0;34m*\u001b[0m\u001b[0margs\u001b[0m\u001b[0;34m,\u001b[0m \u001b[0;34m**\u001b[0m\u001b[0mkwargs\u001b[0m\u001b[0;34m)\u001b[0m\u001b[0;34m\u001b[0m\u001b[0;34m\u001b[0m\u001b[0m\n\u001b[0m\u001b[1;32m    383\u001b[0m                 \u001b[0;32mexcept\u001b[0m \u001b[0mBaseException\u001b[0m\u001b[0;34m:\u001b[0m  \u001b[0;31m# noqa: B902\u001b[0m\u001b[0;34m\u001b[0m\u001b[0;34m\u001b[0m\u001b[0m\n\u001b[1;32m    384\u001b[0m                     \u001b[0mretry_state\u001b[0m\u001b[0;34m.\u001b[0m\u001b[0mset_exception\u001b[0m\u001b[0;34m(\u001b[0m\u001b[0msys\u001b[0m\u001b[0;34m.\u001b[0m\u001b[0mexc_info\u001b[0m\u001b[0;34m(\u001b[0m\u001b[0;34m)\u001b[0m\u001b[0;34m)\u001b[0m  \u001b[0;31m# type: ignore[arg-type]\u001b[0m\u001b[0;34m\u001b[0m\u001b[0;34m\u001b[0m\u001b[0m\n",
      "\u001b[0;32m~/.local/lib/python3.10/site-packages/nixtlats/client.py\u001b[0m in \u001b[0;36mtimegpt_model_params\u001b[0;34m(self, request)\u001b[0m\n\u001b[1;32m    404\u001b[0m         \u001b[0;32mexcept\u001b[0m \u001b[0mJSONDecodeError\u001b[0m\u001b[0;34m:\u001b[0m\u001b[0;34m\u001b[0m\u001b[0;34m\u001b[0m\u001b[0m\n\u001b[1;32m    405\u001b[0m             \u001b[0;32mraise\u001b[0m \u001b[0mApiError\u001b[0m\u001b[0;34m(\u001b[0m\u001b[0mstatus_code\u001b[0m\u001b[0;34m=\u001b[0m\u001b[0m_response\u001b[0m\u001b[0;34m.\u001b[0m\u001b[0mstatus_code\u001b[0m\u001b[0;34m,\u001b[0m \u001b[0mbody\u001b[0m\u001b[0;34m=\u001b[0m\u001b[0m_response\u001b[0m\u001b[0;34m.\u001b[0m\u001b[0mtext\u001b[0m\u001b[0;34m)\u001b[0m\u001b[0;34m\u001b[0m\u001b[0;34m\u001b[0m\u001b[0m\n\u001b[0;32m--> 406\u001b[0;31m         \u001b[0;32mraise\u001b[0m \u001b[0mApiError\u001b[0m\u001b[0;34m(\u001b[0m\u001b[0mstatus_code\u001b[0m\u001b[0;34m=\u001b[0m\u001b[0m_response\u001b[0m\u001b[0;34m.\u001b[0m\u001b[0mstatus_code\u001b[0m\u001b[0;34m,\u001b[0m \u001b[0mbody\u001b[0m\u001b[0;34m=\u001b[0m\u001b[0m_response_json\u001b[0m\u001b[0;34m)\u001b[0m\u001b[0;34m\u001b[0m\u001b[0;34m\u001b[0m\u001b[0m\n\u001b[0m\u001b[1;32m    407\u001b[0m \u001b[0;34m\u001b[0m\u001b[0m\n\u001b[1;32m    408\u001b[0m     \u001b[0;32mdef\u001b[0m \u001b[0mvalidate_token\u001b[0m\u001b[0;34m(\u001b[0m\u001b[0mself\u001b[0m\u001b[0;34m)\u001b[0m \u001b[0;34m->\u001b[0m \u001b[0mtyping\u001b[0m\u001b[0;34m.\u001b[0m\u001b[0mAny\u001b[0m\u001b[0;34m:\u001b[0m\u001b[0;34m\u001b[0m\u001b[0;34m\u001b[0m\u001b[0m\n",
      "\u001b[0;31mApiError\u001b[0m: status_code: 500, body: {'data': None, 'message': 'Request failed with status code 500', 'code': 'B30', 'requestID': '6FGEWGKRSE', 'support': 'If you have questions or need support, please email ops@nixtla.io'}"
     ]
    }
   ],
   "source": [
    "import pandas as pd\n",
    "import numpy as np\n",
    "import os\n",
    "from nixtlats import TimeGPT\n",
    "\n",
    "timegpt = TimeGPT(token = 'FGhvofD8JCo3kvfrY6XdCutbRnla7ZKiusXOu8mZBA6ZyPP9XvtxBb7ISNBrw3gJneb0scTwVBoCx0al0zdGucBWPOEmB0p3vObfH9iLieiGU5OmyTIpcs1ommKHxfWfdstmvf9rEI8ZfxI38DI96TK5z3ncflx9DfQydJTDzJ15xpkgOe1ET1pM5SocRvXeztO1VAl9WoKiTM00DTbmSJSnVVe5CSe4SuUt3wNXav27c6xAd82Akuhh52te7SNU')\n",
    "timegpt.validate_token()\n",
    "\n",
    "\n",
    "output_dir = \"calculated_rows\"\n",
    "os.makedirs(output_dir, exist_ok=True)\n",
    "csv_path = os.path.join(output_dir, \"calculated_rows.csv\")\n",
    "\n",
    "# TODO: Find and replace total with gradient\n",
    "# Use EURUSD csv not sample dataframe\n",
    "# Save as csv\n",
    "\n",
    "# Define a function to calculate the sum of the \"value\" column in a DataFrame\n",
    "def calculate_total(df):\n",
    "    # This needs to pass sub df to TimeGpt then find slope of \n",
    "    # timegpt_fcst_df, time_col='timestamp', target_col='TimeGPT'\n",
    "    \n",
    "    timegpt_fcst_df = timegpt.forecast(df=df, h=5, freq='D', time_col='timestamp', target_col='value')\n",
    "    # TODO \n",
    "    x = np.arange(len(timegpt_fcst_df))\n",
    "    y = timegpt_fcst_df['TimeGPT']\n",
    "    slope, _ = np.polyfit(x, y, 1)  # Fit a first-degree polynomial (line) to the data\n",
    "    return slope, timegpt_fcst_df\n",
    "    # return df['value'].sum()\n",
    "\n",
    "# Create a sample DataFrame\n",
    "# data = {\n",
    "#     'timestamp': pd.date_range(start='2024-01-01', periods=5500),\n",
    "#     'value': range(0, 5500*3, 3)  # Increasing by 3 for each row\n",
    "# }\n",
    "# df = pd.DataFrame(data)\n",
    "\n",
    "df = pd.read_csv('interpolated_data.csv')\n",
    "\n",
    "# Initialize the \"total\" column with zeros\n",
    "df['slope'] = 0\n",
    "\n",
    "# Iterate through the DataFrame starting from row 400\n",
    "for i in range(400, len(df)):\n",
    "    # Create a new DataFrame containing the previous 399 rows plus the current row\n",
    "    sub_df = df.iloc[i-399:i+1]\n",
    "    \n",
    "#     print(\"First row in the DataFrame:\", sub_df.iloc[0])\n",
    "#     print(\"Last row in the DataFrame:\", sub_df.iloc[-1])\n",
    "    \n",
    "    # Calculate the sum of the \"value\" column using the function\n",
    "    slope, latest_values = calculate_total(sub_df)\n",
    "    \n",
    "    # Store the total in a new column called \"total\" in the original DataFrame\n",
    "    df.loc[i, 'slope'] = slope\n",
    "    \n",
    "    print(latest_values.iloc[1]['TimeGPT'])\n",
    "    \n",
    "    df.loc[i, '1pred'] = latest_values.iloc[0]['TimeGPT']\n",
    "    df.loc[i, '2pred'] = latest_values.iloc[1]['TimeGPT']\n",
    "    df.loc[i, '3pred'] = latest_values.iloc[2]['TimeGPT']\n",
    "    df.loc[i, '4pred'] = latest_values.iloc[3]['TimeGPT']\n",
    "    df.loc[i, '5pred'] = latest_values.iloc[4]['TimeGPT']\n",
    "    \n",
    "    print(df.iloc[i])\n",
    "    print(\"row: \", i)\n",
    "    \n",
    "    # Save the current row to the CSV file (append mode)\n",
    "    if i == 400:\n",
    "        df.iloc[i:i+1].to_csv(csv_path, index=False)\n",
    "    else:\n",
    "        df.iloc[i:i+1].to_csv(csv_path, mode='a', header=False, index=False)\n",
    "        \n",
    "# Set pandas display options to show all rows and columns\n",
    "pd.set_option('display.max_rows', None)\n",
    "pd.set_option('display.max_columns', None)\n",
    "\n",
    "print(df)  # Check the first few rows of the DataFrame with the \"total\" column added\n",
    "\n",
    "# Reset pandas display options to default\n",
    "pd.reset_option('display.max_rows')\n",
    "pd.reset_option('display.max_columns')"
   ]
  },
  {
   "cell_type": "code",
   "execution_count": null,
   "id": "de652858",
   "metadata": {},
   "outputs": [],
   "source": []
  }
 ],
 "metadata": {
  "kernelspec": {
   "display_name": "Python 3 (ipykernel)",
   "language": "python",
   "name": "python3"
  },
  "language_info": {
   "codemirror_mode": {
    "name": "ipython",
    "version": 3
   },
   "file_extension": ".py",
   "mimetype": "text/x-python",
   "name": "python",
   "nbconvert_exporter": "python",
   "pygments_lexer": "ipython3",
   "version": "3.10.12"
  }
 },
 "nbformat": 4,
 "nbformat_minor": 5
}
